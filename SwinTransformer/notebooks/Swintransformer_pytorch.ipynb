{
 "cells": [
  {
   "cell_type": "markdown",
   "id": "ede2e9a0",
   "metadata": {
    "papermill": {
     "duration": 0.029781,
     "end_time": "2022-01-21T20:56:49.516619",
     "exception": false,
     "start_time": "2022-01-21T20:56:49.486838",
     "status": "completed"
    },
    "tags": []
   },
   "source": [
    "# Swin Transformers in Pytorch"
   ]
  },
  {
   "cell_type": "code",
   "execution_count": 1,
   "id": "71715ae6",
   "metadata": {
    "execution": {
     "iopub.execute_input": "2022-01-21T20:56:49.626552Z",
     "iopub.status.busy": "2022-01-21T20:56:49.625810Z",
     "iopub.status.idle": "2022-01-21T20:56:51.383734Z",
     "shell.execute_reply": "2022-01-21T20:56:51.384912Z",
     "shell.execute_reply.started": "2022-01-21T20:36:15.864255Z"
    },
    "papermill": {
     "duration": 1.779841,
     "end_time": "2022-01-21T20:56:51.385248",
     "exception": false,
     "start_time": "2022-01-21T20:56:49.605407",
     "status": "completed"
    },
    "tags": []
   },
   "outputs": [],
   "source": [
    "import numpy as np # linear algebra\n",
    "import pandas as pd # data processing, CSV file I/O (e.g. pd.read_csv)\n",
    "import os\n",
    "import torch\n",
    "import torchvision\n",
    "from torchvision import datasets\n",
    "from torchvision import transforms as T # for simplifying the transforms\n",
    "from torch import nn, optim\n",
    "from torch.nn import functional as F\n",
    "from torch.utils.data import DataLoader, sampler, random_split\n",
    "from torchvision import models"
   ]
  },
  {
   "cell_type": "code",
   "execution_count": 2,
   "id": "0a65b776",
   "metadata": {},
   "outputs": [
    {
     "name": "stdout",
     "output_type": "stream",
     "text": [
      "✅ MPS is available. Using Apple Silicon GPU.\n"
     ]
    }
   ],
   "source": [
    "import torch\n",
    "\n",
    "if torch.backends.mps.is_available():\n",
    "    device = torch.device(\"mps\")\n",
    "    print(\"✅ MPS is available. Using Apple Silicon GPU.\")\n",
    "else:\n",
    "    device = torch.device(\"cpu\")\n",
    "    print(\"❌ MPS not available. Falling back to CPU.\")"
   ]
  },
  {
   "cell_type": "code",
   "execution_count": 3,
   "id": "6e48afb9",
   "metadata": {
    "execution": {
     "iopub.execute_input": "2022-01-21T20:56:51.457441Z",
     "iopub.status.busy": "2022-01-21T20:56:51.456630Z",
     "iopub.status.idle": "2022-01-21T20:57:01.288817Z",
     "shell.execute_reply": "2022-01-21T20:57:01.288290Z",
     "shell.execute_reply.started": "2022-01-21T20:36:15.871556Z"
    },
    "papermill": {
     "duration": 9.871753,
     "end_time": "2022-01-21T20:57:01.288946",
     "exception": false,
     "start_time": "2022-01-21T20:56:51.417193",
     "status": "completed"
    },
    "tags": []
   },
   "outputs": [
    {
     "name": "stderr",
     "output_type": "stream",
     "text": [
      "/opt/homebrew/lib/python3.11/site-packages/tqdm/auto.py:21: TqdmWarning: IProgress not found. Please update jupyter and ipywidgets. See https://ipywidgets.readthedocs.io/en/stable/user_install.html\n",
      "  from .autonotebook import tqdm as notebook_tqdm\n"
     ]
    }
   ],
   "source": [
    "## Now, we import timm, torchvision image models\n",
    "# !pip install timm\n",
    "import timm\n",
    "from timm.loss import LabelSmoothingCrossEntropy # This is better than normal nn.CrossEntropyLoss"
   ]
  },
  {
   "cell_type": "code",
   "execution_count": 4,
   "id": "bb9ac605",
   "metadata": {
    "execution": {
     "iopub.execute_input": "2022-01-21T20:57:01.331578Z",
     "iopub.status.busy": "2022-01-21T20:57:01.330012Z",
     "iopub.status.idle": "2022-01-21T20:57:01.334188Z",
     "shell.execute_reply": "2022-01-21T20:57:01.333638Z",
     "shell.execute_reply.started": "2022-01-21T20:36:23.071617Z"
    },
    "papermill": {
     "duration": 0.025416,
     "end_time": "2022-01-21T20:57:01.334306",
     "exception": false,
     "start_time": "2022-01-21T20:57:01.308890",
     "status": "completed"
    },
    "tags": []
   },
   "outputs": [],
   "source": [
    "# remove warnings\n",
    "import warnings\n",
    "warnings.filterwarnings(\"ignore\")"
   ]
  },
  {
   "cell_type": "code",
   "execution_count": 5,
   "id": "dd8a3ece",
   "metadata": {
    "execution": {
     "iopub.execute_input": "2022-01-21T20:57:01.377321Z",
     "iopub.status.busy": "2022-01-21T20:57:01.376571Z",
     "iopub.status.idle": "2022-01-21T20:57:01.378901Z",
     "shell.execute_reply": "2022-01-21T20:57:01.378500Z",
     "shell.execute_reply.started": "2022-01-21T20:36:23.077232Z"
    },
    "papermill": {
     "duration": 0.026115,
     "end_time": "2022-01-21T20:57:01.379032",
     "exception": false,
     "start_time": "2022-01-21T20:57:01.352917",
     "status": "completed"
    },
    "tags": []
   },
   "outputs": [],
   "source": [
    "import matplotlib.pyplot as plt\n",
    "%matplotlib inline"
   ]
  },
  {
   "cell_type": "code",
   "execution_count": 6,
   "id": "f2e4f436",
   "metadata": {
    "execution": {
     "iopub.execute_input": "2022-01-21T20:57:01.420616Z",
     "iopub.status.busy": "2022-01-21T20:57:01.419864Z",
     "iopub.status.idle": "2022-01-21T20:57:01.421795Z",
     "shell.execute_reply": "2022-01-21T20:57:01.422276Z",
     "shell.execute_reply.started": "2022-01-21T20:36:23.087720Z"
    },
    "papermill": {
     "duration": 0.024692,
     "end_time": "2022-01-21T20:57:01.422398",
     "exception": false,
     "start_time": "2022-01-21T20:57:01.397706",
     "status": "completed"
    },
    "tags": []
   },
   "outputs": [],
   "source": [
    "import sys\n",
    "from tqdm import tqdm\n",
    "import time\n",
    "import copy"
   ]
  },
  {
   "cell_type": "code",
   "execution_count": 7,
   "id": "a9af3087",
   "metadata": {
    "execution": {
     "iopub.execute_input": "2022-01-21T20:57:01.464897Z",
     "iopub.status.busy": "2022-01-21T20:57:01.464283Z",
     "iopub.status.idle": "2022-01-21T20:57:01.466887Z",
     "shell.execute_reply": "2022-01-21T20:57:01.466466Z",
     "shell.execute_reply.started": "2022-01-21T20:36:23.096485Z"
    },
    "papermill": {
     "duration": 0.025602,
     "end_time": "2022-01-21T20:57:01.467005",
     "exception": false,
     "start_time": "2022-01-21T20:57:01.441403",
     "status": "completed"
    },
    "tags": []
   },
   "outputs": [],
   "source": [
    "def get_classes(data_dir):\n",
    "    all_data = datasets.ImageFolder(data_dir)\n",
    "    return all_data.classes"
   ]
  },
  {
   "cell_type": "code",
   "execution_count": 8,
   "id": "24a500b3",
   "metadata": {
    "execution": {
     "iopub.execute_input": "2022-01-21T20:57:01.513319Z",
     "iopub.status.busy": "2022-01-21T20:57:01.512500Z",
     "iopub.status.idle": "2022-01-21T20:57:01.517620Z",
     "shell.execute_reply": "2022-01-21T20:57:01.517192Z",
     "shell.execute_reply.started": "2022-01-21T20:44:31.025353Z"
    },
    "papermill": {
     "duration": 0.031576,
     "end_time": "2022-01-21T20:57:01.517729",
     "exception": false,
     "start_time": "2022-01-21T20:57:01.486153",
     "status": "completed"
    },
    "tags": []
   },
   "outputs": [],
   "source": [
    "def get_data_loaders(data_dir, batch_size, train = False):\n",
    "    if train:\n",
    "        #train\n",
    "        transform = T.Compose([\n",
    "            T.Resize((256, 256)),                             # Resize to uniform size\n",
    "            T.RandomRotation(degrees=10),                     # Small rotation for viewpoint variation\n",
    "            T.RandomHorizontalFlip(p=0.5),                    # Flip can be safe for lungs (if not labeled left/right)\n",
    "            T.CenterCrop(224),                                # Crop to match model input\n",
    "            T.ToTensor(),\n",
    "            T.Normalize(mean=[0.485], std=[0.229]),           # Normalize for grayscale X-ray images (you may recompute dataset stats)\n",
    "            T.RandomErasing(p=0.1, scale=(0.02, 0.1), ratio=(0.3, 3.3), value='random')  # Simulate occlusions\n",
    "                ])\n",
    "        train_data = datasets.ImageFolder(os.path.join(data_dir, \"train/\"), transform = transform)\n",
    "        train_loader = DataLoader(train_data, batch_size=batch_size, shuffle=True, num_workers=4)\n",
    "        return train_loader, len(train_data)\n",
    "    else:\n",
    "        # val/test\n",
    "        transform = T.Compose([ # We dont need augmentation for test transforms\n",
    "            T.Resize((256, 256)),                             # Resize to uniform size\n",
    "            T.RandomRotation(degrees=10),                     # Small rotation for viewpoint variation\n",
    "            T.RandomHorizontalFlip(p=0.5),                    # Flip can be safe for lungs (if not labeled left/right)\n",
    "            T.CenterCrop(224),                                # Crop to match model input\n",
    "            T.ToTensor(),\n",
    "            T.Normalize(mean=[0.485], std=[0.229]),           # Normalize for grayscale X-ray images (you may recompute dataset stats)\n",
    "            T.RandomErasing(p=0.1, scale=(0.02, 0.1), ratio=(0.3, 3.3), value='random')  # Simulate occlusions\n",
    "        ])\n",
    "        val_data = datasets.ImageFolder(os.path.join(data_dir, \"valid/\"), transform=transform)\n",
    "        test_data = datasets.ImageFolder(os.path.join(data_dir, \"test/\"), transform=transform)\n",
    "        val_loader = DataLoader(val_data, batch_size=batch_size, shuffle=True, num_workers=4)\n",
    "        test_loader = DataLoader(test_data, batch_size=batch_size, shuffle=True, num_workers=4)\n",
    "        return val_loader, test_loader, len(val_data), len(test_data)"
   ]
  },
  {
   "cell_type": "code",
   "execution_count": 9,
   "id": "1d2eb1d2",
   "metadata": {
    "execution": {
     "iopub.execute_input": "2022-01-21T20:57:01.559309Z",
     "iopub.status.busy": "2022-01-21T20:57:01.558641Z",
     "iopub.status.idle": "2022-01-21T20:57:01.561051Z",
     "shell.execute_reply": "2022-01-21T20:57:01.560635Z",
     "shell.execute_reply.started": "2022-01-21T20:44:32.174502Z"
    },
    "papermill": {
     "duration": 0.024458,
     "end_time": "2022-01-21T20:57:01.561157",
     "exception": false,
     "start_time": "2022-01-21T20:57:01.536699",
     "status": "completed"
    },
    "tags": []
   },
   "outputs": [],
   "source": [
    "dataset_path = \"/Users/zagarsuren/Documents/GitHub/xray-classification/data\""
   ]
  },
  {
   "cell_type": "code",
   "execution_count": 10,
   "id": "2e163386",
   "metadata": {
    "execution": {
     "iopub.execute_input": "2022-01-21T20:57:01.603447Z",
     "iopub.status.busy": "2022-01-21T20:57:01.602867Z",
     "iopub.status.idle": "2022-01-21T20:57:05.414528Z",
     "shell.execute_reply": "2022-01-21T20:57:05.413927Z",
     "shell.execute_reply.started": "2022-01-21T20:44:32.278279Z"
    },
    "papermill": {
     "duration": 3.83448,
     "end_time": "2022-01-21T20:57:05.414662",
     "exception": false,
     "start_time": "2022-01-21T20:57:01.580182",
     "status": "completed"
    },
    "tags": []
   },
   "outputs": [],
   "source": [
    "(train_loader, train_data_len) = get_data_loaders(dataset_path, 128, train=True)"
   ]
  },
  {
   "cell_type": "code",
   "execution_count": 11,
   "id": "0677cb70",
   "metadata": {},
   "outputs": [],
   "source": [
    "(val_loader, test_loader, valid_data_len, test_data_len) = get_data_loaders(dataset_path, 32, train=False)"
   ]
  },
  {
   "cell_type": "code",
   "execution_count": 12,
   "id": "f336a3c2",
   "metadata": {
    "execution": {
     "iopub.execute_input": "2022-01-21T20:57:05.458505Z",
     "iopub.status.busy": "2022-01-21T20:57:05.457924Z",
     "iopub.status.idle": "2022-01-21T20:57:05.538079Z",
     "shell.execute_reply": "2022-01-21T20:57:05.537572Z",
     "shell.execute_reply.started": "2022-01-21T20:44:33.170312Z"
    },
    "papermill": {
     "duration": 0.102606,
     "end_time": "2022-01-21T20:57:05.538201",
     "exception": false,
     "start_time": "2022-01-21T20:57:05.435595",
     "status": "completed"
    },
    "tags": []
   },
   "outputs": [
    {
     "name": "stdout",
     "output_type": "stream",
     "text": [
      "['Atelectasis', 'Cardiomegaly', 'No Finding', 'Nodule', 'Pneumothorax'] 5\n"
     ]
    }
   ],
   "source": [
    "classes = get_classes(\"/Users/zagarsuren/Documents/GitHub/xray-classification/data/train\")\n",
    "print(classes, len(classes))"
   ]
  },
  {
   "cell_type": "code",
   "execution_count": 13,
   "id": "cfc93126",
   "metadata": {
    "execution": {
     "iopub.execute_input": "2022-01-21T20:57:05.580810Z",
     "iopub.status.busy": "2022-01-21T20:57:05.580167Z",
     "iopub.status.idle": "2022-01-21T20:57:05.582808Z",
     "shell.execute_reply": "2022-01-21T20:57:05.582382Z",
     "shell.execute_reply.started": "2022-01-21T20:44:33.297018Z"
    },
    "papermill": {
     "duration": 0.025522,
     "end_time": "2022-01-21T20:57:05.582912",
     "exception": false,
     "start_time": "2022-01-21T20:57:05.557390",
     "status": "completed"
    },
    "tags": []
   },
   "outputs": [],
   "source": [
    "dataloaders = {\n",
    "    \"train\": train_loader,\n",
    "    \"val\": val_loader\n",
    "}\n",
    "dataset_sizes = {\n",
    "    \"train\": train_data_len,\n",
    "    \"val\": valid_data_len\n",
    "}"
   ]
  },
  {
   "cell_type": "code",
   "execution_count": 14,
   "id": "c185e114",
   "metadata": {
    "execution": {
     "iopub.execute_input": "2022-01-21T20:57:05.625730Z",
     "iopub.status.busy": "2022-01-21T20:57:05.625189Z",
     "iopub.status.idle": "2022-01-21T20:57:05.627902Z",
     "shell.execute_reply": "2022-01-21T20:57:05.628481Z",
     "shell.execute_reply.started": "2022-01-21T20:44:33.446158Z"
    },
    "papermill": {
     "duration": 0.026483,
     "end_time": "2022-01-21T20:57:05.628637",
     "exception": false,
     "start_time": "2022-01-21T20:57:05.602154",
     "status": "completed"
    },
    "tags": []
   },
   "outputs": [
    {
     "name": "stdout",
     "output_type": "stream",
     "text": [
      "35 18 18\n"
     ]
    }
   ],
   "source": [
    "print(len(train_loader), len(val_loader), len(test_loader))"
   ]
  },
  {
   "cell_type": "code",
   "execution_count": 15,
   "id": "24c74bc8",
   "metadata": {
    "execution": {
     "iopub.execute_input": "2022-01-21T20:57:05.673157Z",
     "iopub.status.busy": "2022-01-21T20:57:05.672509Z",
     "iopub.status.idle": "2022-01-21T20:57:05.675368Z",
     "shell.execute_reply": "2022-01-21T20:57:05.675966Z",
     "shell.execute_reply.started": "2022-01-21T20:44:34.505203Z"
    },
    "papermill": {
     "duration": 0.026911,
     "end_time": "2022-01-21T20:57:05.676146",
     "exception": false,
     "start_time": "2022-01-21T20:57:05.649235",
     "status": "completed"
    },
    "tags": []
   },
   "outputs": [
    {
     "name": "stdout",
     "output_type": "stream",
     "text": [
      "4370 545 550\n"
     ]
    }
   ],
   "source": [
    "print(train_data_len, valid_data_len, test_data_len)"
   ]
  },
  {
   "cell_type": "code",
   "execution_count": 16,
   "id": "c0edc8a4",
   "metadata": {
    "execution": {
     "iopub.execute_input": "2022-01-21T20:57:05.771111Z",
     "iopub.status.busy": "2022-01-21T20:57:05.770371Z",
     "iopub.status.idle": "2022-01-21T20:57:05.773471Z",
     "shell.execute_reply": "2022-01-21T20:57:05.773868Z",
     "shell.execute_reply.started": "2022-01-21T20:44:34.623568Z"
    },
    "papermill": {
     "duration": 0.076768,
     "end_time": "2022-01-21T20:57:05.774009",
     "exception": false,
     "start_time": "2022-01-21T20:57:05.697241",
     "status": "completed"
    },
    "tags": []
   },
   "outputs": [
    {
     "data": {
      "text/plain": [
       "device(type='cpu')"
      ]
     },
     "execution_count": 16,
     "metadata": {},
     "output_type": "execute_result"
    }
   ],
   "source": [
    "# now, for the model\n",
    "# device = torch.device('cuda' if torch.cuda.is_available() else 'cpu')\n",
    "device = torch.device(\"cpu\") # torch.device(\"mps\") if torch.backends.mps.is_available() else torch.device(\"cpu\")\n",
    "device"
   ]
  },
  {
   "cell_type": "code",
   "execution_count": 17,
   "id": "9e7dd5cb",
   "metadata": {},
   "outputs": [
    {
     "data": {
      "text/plain": [
       "['Atelectasis', 'Cardiomegaly', 'No Finding', 'Nodule', 'Pneumothorax']"
      ]
     },
     "execution_count": 17,
     "metadata": {},
     "output_type": "execute_result"
    }
   ],
   "source": [
    "classes"
   ]
  },
  {
   "cell_type": "code",
   "execution_count": 18,
   "id": "807158fb",
   "metadata": {
    "execution": {
     "iopub.execute_input": "2022-01-21T20:57:05.817893Z",
     "iopub.status.busy": "2022-01-21T20:57:05.817135Z",
     "iopub.status.idle": "2022-01-21T20:57:08.259700Z",
     "shell.execute_reply": "2022-01-21T20:57:08.259016Z",
     "shell.execute_reply.started": "2022-01-21T20:44:34.764655Z"
    },
    "papermill": {
     "duration": 2.465756,
     "end_time": "2022-01-21T20:57:08.259834",
     "exception": false,
     "start_time": "2022-01-21T20:57:05.794078",
     "status": "completed"
    },
    "tags": []
   },
   "outputs": [
    {
     "name": "stderr",
     "output_type": "stream",
     "text": [
      "Using cache found in /Users/zagarsuren/.cache/torch/hub/SharanSMenon_swin-transformer-hub_main\n"
     ]
    }
   ],
   "source": [
    "HUB_URL = \"SharanSMenon/swin-transformer-hub:main\"\n",
    "MODEL_NAME = \"swin_tiny_patch4_window7_224\"\n",
    "# check hubconf for more models.\n",
    "model = torch.hub.load(HUB_URL, MODEL_NAME, pretrained=True) # load from torch hub"
   ]
  },
  {
   "cell_type": "code",
   "execution_count": 19,
   "id": "ea77c30b",
   "metadata": {
    "execution": {
     "iopub.execute_input": "2022-01-21T20:57:08.311621Z",
     "iopub.status.busy": "2022-01-21T20:57:08.310862Z",
     "iopub.status.idle": "2022-01-21T20:57:11.219725Z",
     "shell.execute_reply": "2022-01-21T20:57:11.220154Z",
     "shell.execute_reply.started": "2022-01-21T20:44:35.778344Z"
    },
    "papermill": {
     "duration": 2.938001,
     "end_time": "2022-01-21T20:57:11.220310",
     "exception": false,
     "start_time": "2022-01-21T20:57:08.282309",
     "status": "completed"
    },
    "tags": []
   },
   "outputs": [
    {
     "name": "stdout",
     "output_type": "stream",
     "text": [
      "Sequential(\n",
      "  (0): Linear(in_features=768, out_features=512, bias=True)\n",
      "  (1): ReLU()\n",
      "  (2): Dropout(p=0.3, inplace=False)\n",
      "  (3): Linear(in_features=512, out_features=5, bias=True)\n",
      ")\n"
     ]
    }
   ],
   "source": [
    "for param in model.parameters(): #freeze model\n",
    "    param.requires_grad = False\n",
    "\n",
    "n_inputs = model.head.in_features\n",
    "model.head = nn.Sequential(\n",
    "    nn.Linear(n_inputs, 512),\n",
    "    nn.ReLU(),\n",
    "    nn.Dropout(0.3),\n",
    "    nn.Linear(512, len(classes))\n",
    ")\n",
    "model = model.to(device)\n",
    "print(model.head)"
   ]
  },
  {
   "cell_type": "code",
   "execution_count": 20,
   "id": "aa2dc38b",
   "metadata": {
    "execution": {
     "iopub.execute_input": "2022-01-21T20:57:11.268367Z",
     "iopub.status.busy": "2022-01-21T20:57:11.267607Z",
     "iopub.status.idle": "2022-01-21T20:57:11.270102Z",
     "shell.execute_reply": "2022-01-21T20:57:11.269656Z",
     "shell.execute_reply.started": "2022-01-21T20:44:37.770586Z"
    },
    "papermill": {
     "duration": 0.028502,
     "end_time": "2022-01-21T20:57:11.270217",
     "exception": false,
     "start_time": "2022-01-21T20:57:11.241715",
     "status": "completed"
    },
    "tags": []
   },
   "outputs": [],
   "source": [
    "criterion = LabelSmoothingCrossEntropy()\n",
    "criterion = criterion.to(device)\n",
    "optimizer = optim.AdamW(model.head.parameters(), lr=0.001)"
   ]
  },
  {
   "cell_type": "code",
   "execution_count": 21,
   "id": "ce3a448d",
   "metadata": {
    "execution": {
     "iopub.execute_input": "2022-01-21T20:57:11.316666Z",
     "iopub.status.busy": "2022-01-21T20:57:11.315877Z",
     "iopub.status.idle": "2022-01-21T20:57:11.318304Z",
     "shell.execute_reply": "2022-01-21T20:57:11.317834Z",
     "shell.execute_reply.started": "2022-01-21T20:44:39.727287Z"
    },
    "papermill": {
     "duration": 0.027138,
     "end_time": "2022-01-21T20:57:11.318407",
     "exception": false,
     "start_time": "2022-01-21T20:57:11.291269",
     "status": "completed"
    },
    "tags": []
   },
   "outputs": [],
   "source": [
    "# lr scheduler\n",
    "exp_lr_scheduler = optim.lr_scheduler.StepLR(optimizer, step_size=3, gamma=0.97)"
   ]
  },
  {
   "cell_type": "code",
   "execution_count": 23,
   "id": "24d12db1",
   "metadata": {},
   "outputs": [],
   "source": [
    "import time\n",
    "import copy\n",
    "from tqdm import tqdm\n",
    "from sklearn.metrics import classification_report\n",
    "import matplotlib.pyplot as plt\n",
    "\n",
    "def train_model(model, criterion, optimizer, scheduler, dataloaders, dataset_sizes, device, num_epochs=10, class_names=None):\n",
    "    since = time.time()\n",
    "\n",
    "    best_model_wts = copy.deepcopy(model.state_dict())\n",
    "    best_acc = 0.0\n",
    "\n",
    "    # Lists for tracking metrics\n",
    "    train_losses, val_losses = [], []\n",
    "    train_accuracies, val_accuracies = [], []\n",
    "\n",
    "    for epoch in range(num_epochs):\n",
    "        print(f'Epoch {epoch}/{num_epochs - 1}')\n",
    "        print(\"-\"*10)\n",
    "\n",
    "        for phase in ['train', 'val']:\n",
    "            if phase == 'train':\n",
    "                model.train()\n",
    "            else:\n",
    "                model.eval()\n",
    "\n",
    "            running_loss = 0.0\n",
    "            running_corrects = 0\n",
    "\n",
    "            all_preds = []\n",
    "            all_labels = []\n",
    "\n",
    "            for inputs, labels in tqdm(dataloaders[phase]):\n",
    "                inputs = inputs.to(device)\n",
    "                labels = labels.to(device)\n",
    "\n",
    "                optimizer.zero_grad()\n",
    "\n",
    "                with torch.set_grad_enabled(phase == 'train'):\n",
    "                    outputs = model(inputs)\n",
    "                    _, preds = torch.max(outputs, 1)\n",
    "                    loss = criterion(outputs, labels)\n",
    "\n",
    "                    if phase == 'train':\n",
    "                        loss.backward()\n",
    "                        optimizer.step()\n",
    "\n",
    "                running_loss += loss.item() * inputs.size(0)\n",
    "                running_corrects += torch.sum(preds == labels.data)\n",
    "\n",
    "                all_preds.extend(preds.cpu().numpy())\n",
    "                all_labels.extend(labels.cpu().numpy())\n",
    "\n",
    "            if phase == 'train':\n",
    "                scheduler.step()\n",
    "\n",
    "            epoch_loss = running_loss / dataset_sizes[phase]\n",
    "            epoch_acc = running_corrects.double() / dataset_sizes[phase]\n",
    "\n",
    "            if phase == 'train':\n",
    "                train_losses.append(epoch_loss)\n",
    "                train_accuracies.append(epoch_acc.item())\n",
    "            else:\n",
    "                val_losses.append(epoch_loss)\n",
    "                val_accuracies.append(epoch_acc.item())\n",
    "\n",
    "            print(f\"{phase} Loss: {epoch_loss:.4f} Acc: {epoch_acc:.4f}\")\n",
    "\n",
    "            # Print classification report\n",
    "            if class_names is not None:\n",
    "                print(f\"{phase} Classification Report:\")\n",
    "                print(classification_report(all_labels, all_preds, target_names=class_names))\n",
    "            else:\n",
    "                print(f\"{phase} Classification Report:\")\n",
    "                print(classification_report(all_labels, all_preds))\n",
    "\n",
    "            # Save best model\n",
    "            if phase == 'val' and epoch_acc > best_acc:\n",
    "                best_acc = epoch_acc\n",
    "                best_model_wts = copy.deepcopy(model.state_dict())\n",
    "        print()\n",
    "\n",
    "    time_elapsed = time.time() - since\n",
    "    print('Training complete in {:.0f}m {:.0f}s'.format(time_elapsed // 60, time_elapsed % 60))\n",
    "    print(\"Best Val Acc: {:.4f}\".format(best_acc))\n",
    "\n",
    "    # Plot Loss\n",
    "    plt.figure()\n",
    "    plt.plot(train_losses, label='Train Loss')\n",
    "    plt.plot(val_losses, label='Val Loss')\n",
    "    plt.title('Loss per Epoch')\n",
    "    plt.xlabel('Epoch')\n",
    "    plt.ylabel('Loss')\n",
    "    plt.legend()\n",
    "    plt.savefig('loss_curve.png')\n",
    "    plt.close()\n",
    "\n",
    "    # Plot Accuracy\n",
    "    plt.figure()\n",
    "    plt.plot(train_accuracies, label='Train Accuracy')\n",
    "    plt.plot(val_accuracies, label='Val Accuracy')\n",
    "    plt.title('Accuracy per Epoch')\n",
    "    plt.xlabel('Epoch')\n",
    "    plt.ylabel('Accuracy')\n",
    "    plt.legend()\n",
    "    plt.savefig('accuracy_curve.png')\n",
    "    plt.close()\n",
    "\n",
    "    # Load best model\n",
    "    model.load_state_dict(best_model_wts)\n",
    "    return model"
   ]
  },
  {
   "cell_type": "code",
   "execution_count": 24,
   "id": "045bd8b3",
   "metadata": {
    "execution": {
     "iopub.execute_input": "2022-01-21T20:57:11.421413Z",
     "iopub.status.busy": "2022-01-21T20:57:11.420660Z",
     "iopub.status.idle": "2022-01-21T21:01:51.123153Z",
     "shell.execute_reply": "2022-01-21T21:01:51.122665Z",
     "shell.execute_reply.started": "2022-01-21T20:44:41.514465Z"
    },
    "papermill": {
     "duration": 279.726913,
     "end_time": "2022-01-21T21:01:51.123284",
     "exception": false,
     "start_time": "2022-01-21T20:57:11.396371",
     "status": "completed"
    },
    "tags": []
   },
   "outputs": [
    {
     "name": "stdout",
     "output_type": "stream",
     "text": [
      "Epoch 0/49\n",
      "----------\n"
     ]
    },
    {
     "name": "stderr",
     "output_type": "stream",
     "text": [
      "100%|██████████| 35/35 [03:41<00:00,  6.33s/it]\n"
     ]
    },
    {
     "name": "stdout",
     "output_type": "stream",
     "text": [
      "train Loss: 1.5464 Acc: 0.3181\n",
      "train Classification Report:\n",
      "              precision    recall  f1-score   support\n",
      "\n",
      "           0       0.31      0.38      0.34       874\n",
      "           1       0.32      0.28      0.30       874\n",
      "           2       0.27      0.24      0.26       874\n",
      "           3       0.30      0.26      0.28       874\n",
      "           4       0.38      0.43      0.40       874\n",
      "\n",
      "    accuracy                           0.32      4370\n",
      "   macro avg       0.32      0.32      0.32      4370\n",
      "weighted avg       0.32      0.32      0.32      4370\n",
      "\n"
     ]
    },
    {
     "name": "stderr",
     "output_type": "stream",
     "text": [
      "100%|██████████| 18/18 [00:38<00:00,  2.16s/it]\n"
     ]
    },
    {
     "name": "stdout",
     "output_type": "stream",
     "text": [
      "val Loss: 1.4686 Acc: 0.3835\n",
      "val Classification Report:\n",
      "              precision    recall  f1-score   support\n",
      "\n",
      "           0       0.37      0.39      0.38       109\n",
      "           1       0.36      0.61      0.46       109\n",
      "           2       0.17      0.04      0.06       109\n",
      "           3       0.33      0.45      0.38       109\n",
      "           4       0.63      0.43      0.51       109\n",
      "\n",
      "    accuracy                           0.38       545\n",
      "   macro avg       0.37      0.38      0.36       545\n",
      "weighted avg       0.37      0.38      0.36       545\n",
      "\n",
      "\n",
      "Epoch 1/49\n",
      "----------\n"
     ]
    },
    {
     "name": "stderr",
     "output_type": "stream",
     "text": [
      "100%|██████████| 35/35 [03:17<00:00,  5.65s/it]\n"
     ]
    },
    {
     "name": "stdout",
     "output_type": "stream",
     "text": [
      "train Loss: 1.4705 Acc: 0.3950\n",
      "train Classification Report:\n",
      "              precision    recall  f1-score   support\n",
      "\n",
      "           0       0.38      0.45      0.41       874\n",
      "           1       0.44      0.45      0.45       874\n",
      "           2       0.33      0.24      0.28       874\n",
      "           3       0.35      0.33      0.34       874\n",
      "           4       0.45      0.50      0.47       874\n",
      "\n",
      "    accuracy                           0.39      4370\n",
      "   macro avg       0.39      0.39      0.39      4370\n",
      "weighted avg       0.39      0.39      0.39      4370\n",
      "\n"
     ]
    },
    {
     "name": "stderr",
     "output_type": "stream",
     "text": [
      "100%|██████████| 18/18 [00:40<00:00,  2.24s/it]\n"
     ]
    },
    {
     "name": "stdout",
     "output_type": "stream",
     "text": [
      "val Loss: 1.4643 Acc: 0.4239\n",
      "val Classification Report:\n",
      "              precision    recall  f1-score   support\n",
      "\n",
      "           0       0.46      0.24      0.32       109\n",
      "           1       0.48      0.54      0.51       109\n",
      "           2       0.33      0.28      0.30       109\n",
      "           3       0.34      0.51      0.41       109\n",
      "           4       0.56      0.54      0.55       109\n",
      "\n",
      "    accuracy                           0.42       545\n",
      "   macro avg       0.43      0.42      0.42       545\n",
      "weighted avg       0.43      0.42      0.42       545\n",
      "\n",
      "\n",
      "Epoch 2/49\n",
      "----------\n"
     ]
    },
    {
     "name": "stderr",
     "output_type": "stream",
     "text": [
      "100%|██████████| 35/35 [03:14<00:00,  5.56s/it]\n"
     ]
    },
    {
     "name": "stdout",
     "output_type": "stream",
     "text": [
      "train Loss: 1.4566 Acc: 0.4023\n",
      "train Classification Report:\n",
      "              precision    recall  f1-score   support\n",
      "\n",
      "           0       0.39      0.41      0.40       874\n",
      "           1       0.44      0.48      0.46       874\n",
      "           2       0.33      0.26      0.29       874\n",
      "           3       0.36      0.33      0.34       874\n",
      "           4       0.46      0.53      0.49       874\n",
      "\n",
      "    accuracy                           0.40      4370\n",
      "   macro avg       0.40      0.40      0.40      4370\n",
      "weighted avg       0.40      0.40      0.40      4370\n",
      "\n"
     ]
    },
    {
     "name": "stderr",
     "output_type": "stream",
     "text": [
      "100%|██████████| 18/18 [00:39<00:00,  2.19s/it]\n"
     ]
    },
    {
     "name": "stdout",
     "output_type": "stream",
     "text": [
      "val Loss: 1.4330 Acc: 0.4220\n",
      "val Classification Report:\n",
      "              precision    recall  f1-score   support\n",
      "\n",
      "           0       0.41      0.38      0.39       109\n",
      "           1       0.51      0.43      0.47       109\n",
      "           2       0.33      0.43      0.37       109\n",
      "           3       0.40      0.23      0.29       109\n",
      "           4       0.48      0.64      0.55       109\n",
      "\n",
      "    accuracy                           0.42       545\n",
      "   macro avg       0.42      0.42      0.41       545\n",
      "weighted avg       0.42      0.42      0.41       545\n",
      "\n",
      "\n",
      "Epoch 3/49\n",
      "----------\n"
     ]
    },
    {
     "name": "stderr",
     "output_type": "stream",
     "text": [
      "100%|██████████| 35/35 [03:21<00:00,  5.77s/it]\n"
     ]
    },
    {
     "name": "stdout",
     "output_type": "stream",
     "text": [
      "train Loss: 1.4296 Acc: 0.4167\n",
      "train Classification Report:\n",
      "              precision    recall  f1-score   support\n",
      "\n",
      "           0       0.39      0.41      0.40       874\n",
      "           1       0.46      0.52      0.49       874\n",
      "           2       0.33      0.27      0.30       874\n",
      "           3       0.38      0.31      0.34       874\n",
      "           4       0.47      0.58      0.52       874\n",
      "\n",
      "    accuracy                           0.42      4370\n",
      "   macro avg       0.41      0.42      0.41      4370\n",
      "weighted avg       0.41      0.42      0.41      4370\n",
      "\n"
     ]
    },
    {
     "name": "stderr",
     "output_type": "stream",
     "text": [
      "100%|██████████| 18/18 [00:40<00:00,  2.27s/it]\n"
     ]
    },
    {
     "name": "stdout",
     "output_type": "stream",
     "text": [
      "val Loss: 1.4309 Acc: 0.4349\n",
      "val Classification Report:\n",
      "              precision    recall  f1-score   support\n",
      "\n",
      "           0       0.44      0.36      0.39       109\n",
      "           1       0.41      0.67      0.51       109\n",
      "           2       0.42      0.17      0.25       109\n",
      "           3       0.34      0.55      0.42       109\n",
      "           4       0.77      0.42      0.54       109\n",
      "\n",
      "    accuracy                           0.43       545\n",
      "   macro avg       0.48      0.43      0.42       545\n",
      "weighted avg       0.48      0.43      0.42       545\n",
      "\n",
      "\n",
      "Epoch 4/49\n",
      "----------\n"
     ]
    },
    {
     "name": "stderr",
     "output_type": "stream",
     "text": [
      "100%|██████████| 35/35 [03:46<00:00,  6.47s/it]\n"
     ]
    },
    {
     "name": "stdout",
     "output_type": "stream",
     "text": [
      "train Loss: 1.4350 Acc: 0.4142\n",
      "train Classification Report:\n",
      "              precision    recall  f1-score   support\n",
      "\n",
      "           0       0.41      0.38      0.39       874\n",
      "           1       0.46      0.54      0.50       874\n",
      "           2       0.35      0.31      0.33       874\n",
      "           3       0.34      0.33      0.34       874\n",
      "           4       0.48      0.51      0.49       874\n",
      "\n",
      "    accuracy                           0.41      4370\n",
      "   macro avg       0.41      0.41      0.41      4370\n",
      "weighted avg       0.41      0.41      0.41      4370\n",
      "\n"
     ]
    },
    {
     "name": "stderr",
     "output_type": "stream",
     "text": [
      "100%|██████████| 18/18 [00:39<00:00,  2.21s/it]\n"
     ]
    },
    {
     "name": "stdout",
     "output_type": "stream",
     "text": [
      "val Loss: 1.4182 Acc: 0.4147\n",
      "val Classification Report:\n",
      "              precision    recall  f1-score   support\n",
      "\n",
      "           0       0.37      0.47      0.41       109\n",
      "           1       0.40      0.52      0.45       109\n",
      "           2       0.35      0.11      0.17       109\n",
      "           3       0.39      0.34      0.36       109\n",
      "           4       0.51      0.63      0.57       109\n",
      "\n",
      "    accuracy                           0.41       545\n",
      "   macro avg       0.40      0.41      0.39       545\n",
      "weighted avg       0.40      0.41      0.39       545\n",
      "\n",
      "\n",
      "Epoch 5/49\n",
      "----------\n"
     ]
    },
    {
     "name": "stderr",
     "output_type": "stream",
     "text": [
      "100%|██████████| 35/35 [03:31<00:00,  6.03s/it]\n"
     ]
    },
    {
     "name": "stdout",
     "output_type": "stream",
     "text": [
      "train Loss: 1.4192 Acc: 0.4215\n",
      "train Classification Report:\n",
      "              precision    recall  f1-score   support\n",
      "\n",
      "           0       0.39      0.42      0.41       874\n",
      "           1       0.45      0.55      0.50       874\n",
      "           2       0.38      0.23      0.29       874\n",
      "           3       0.37      0.33      0.35       874\n",
      "           4       0.47      0.57      0.52       874\n",
      "\n",
      "    accuracy                           0.42      4370\n",
      "   macro avg       0.41      0.42      0.41      4370\n",
      "weighted avg       0.41      0.42      0.41      4370\n",
      "\n"
     ]
    },
    {
     "name": "stderr",
     "output_type": "stream",
     "text": [
      "100%|██████████| 18/18 [00:40<00:00,  2.24s/it]\n"
     ]
    },
    {
     "name": "stdout",
     "output_type": "stream",
     "text": [
      "val Loss: 1.4163 Acc: 0.4275\n",
      "val Classification Report:\n",
      "              precision    recall  f1-score   support\n",
      "\n",
      "           0       0.40      0.25      0.31       109\n",
      "           1       0.42      0.65      0.51       109\n",
      "           2       0.33      0.36      0.34       109\n",
      "           3       0.46      0.21      0.29       109\n",
      "           4       0.53      0.67      0.59       109\n",
      "\n",
      "    accuracy                           0.43       545\n",
      "   macro avg       0.43      0.43      0.41       545\n",
      "weighted avg       0.43      0.43      0.41       545\n",
      "\n",
      "\n",
      "Epoch 6/49\n",
      "----------\n"
     ]
    },
    {
     "name": "stderr",
     "output_type": "stream",
     "text": [
      "100%|██████████| 35/35 [03:12<00:00,  5.49s/it]\n"
     ]
    },
    {
     "name": "stdout",
     "output_type": "stream",
     "text": [
      "train Loss: 1.4152 Acc: 0.4279\n",
      "train Classification Report:\n",
      "              precision    recall  f1-score   support\n",
      "\n",
      "           0       0.41      0.44      0.42       874\n",
      "           1       0.46      0.55      0.50       874\n",
      "           2       0.35      0.26      0.30       874\n",
      "           3       0.38      0.35      0.36       874\n",
      "           4       0.50      0.55      0.52       874\n",
      "\n",
      "    accuracy                           0.43      4370\n",
      "   macro avg       0.42      0.43      0.42      4370\n",
      "weighted avg       0.42      0.43      0.42      4370\n",
      "\n"
     ]
    },
    {
     "name": "stderr",
     "output_type": "stream",
     "text": [
      "100%|██████████| 18/18 [00:38<00:00,  2.12s/it]\n"
     ]
    },
    {
     "name": "stdout",
     "output_type": "stream",
     "text": [
      "val Loss: 1.4281 Acc: 0.3945\n",
      "val Classification Report:\n",
      "              precision    recall  f1-score   support\n",
      "\n",
      "           0       0.37      0.28      0.32       109\n",
      "           1       0.50      0.46      0.48       109\n",
      "           2       0.34      0.17      0.23       109\n",
      "           3       0.34      0.29      0.32       109\n",
      "           4       0.39      0.76      0.52       109\n",
      "\n",
      "    accuracy                           0.39       545\n",
      "   macro avg       0.39      0.39      0.37       545\n",
      "weighted avg       0.39      0.39      0.37       545\n",
      "\n",
      "\n",
      "Epoch 7/49\n",
      "----------\n"
     ]
    },
    {
     "name": "stderr",
     "output_type": "stream",
     "text": [
      "100%|██████████| 35/35 [03:20<00:00,  5.73s/it]\n"
     ]
    },
    {
     "name": "stdout",
     "output_type": "stream",
     "text": [
      "train Loss: 1.4017 Acc: 0.4366\n",
      "train Classification Report:\n",
      "              precision    recall  f1-score   support\n",
      "\n",
      "           0       0.42      0.44      0.43       874\n",
      "           1       0.47      0.55      0.51       874\n",
      "           2       0.36      0.26      0.30       874\n",
      "           3       0.40      0.36      0.38       874\n",
      "           4       0.49      0.58      0.53       874\n",
      "\n",
      "    accuracy                           0.44      4370\n",
      "   macro avg       0.43      0.44      0.43      4370\n",
      "weighted avg       0.43      0.44      0.43      4370\n",
      "\n"
     ]
    },
    {
     "name": "stderr",
     "output_type": "stream",
     "text": [
      "100%|██████████| 18/18 [00:39<00:00,  2.17s/it]\n"
     ]
    },
    {
     "name": "stdout",
     "output_type": "stream",
     "text": [
      "val Loss: 1.4107 Acc: 0.4495\n",
      "val Classification Report:\n",
      "              precision    recall  f1-score   support\n",
      "\n",
      "           0       0.42      0.50      0.45       109\n",
      "           1       0.52      0.55      0.54       109\n",
      "           2       0.35      0.27      0.30       109\n",
      "           3       0.37      0.32      0.34       109\n",
      "           4       0.54      0.61      0.58       109\n",
      "\n",
      "    accuracy                           0.45       545\n",
      "   macro avg       0.44      0.45      0.44       545\n",
      "weighted avg       0.44      0.45      0.44       545\n",
      "\n",
      "\n",
      "Epoch 8/49\n",
      "----------\n"
     ]
    },
    {
     "name": "stderr",
     "output_type": "stream",
     "text": [
      "100%|██████████| 35/35 [03:21<00:00,  5.76s/it]\n"
     ]
    },
    {
     "name": "stdout",
     "output_type": "stream",
     "text": [
      "train Loss: 1.3998 Acc: 0.4419\n",
      "train Classification Report:\n",
      "              precision    recall  f1-score   support\n",
      "\n",
      "           0       0.41      0.46      0.43       874\n",
      "           1       0.49      0.57      0.52       874\n",
      "           2       0.37      0.27      0.32       874\n",
      "           3       0.40      0.34      0.37       874\n",
      "           4       0.51      0.57      0.54       874\n",
      "\n",
      "    accuracy                           0.44      4370\n",
      "   macro avg       0.43      0.44      0.44      4370\n",
      "weighted avg       0.43      0.44      0.44      4370\n",
      "\n"
     ]
    },
    {
     "name": "stderr",
     "output_type": "stream",
     "text": [
      "100%|██████████| 18/18 [00:39<00:00,  2.22s/it]\n"
     ]
    },
    {
     "name": "stdout",
     "output_type": "stream",
     "text": [
      "val Loss: 1.4197 Acc: 0.4422\n",
      "val Classification Report:\n",
      "              precision    recall  f1-score   support\n",
      "\n",
      "           0       0.43      0.29      0.35       109\n",
      "           1       0.49      0.57      0.53       109\n",
      "           2       0.30      0.59      0.40       109\n",
      "           3       0.55      0.19      0.29       109\n",
      "           4       0.64      0.57      0.60       109\n",
      "\n",
      "    accuracy                           0.44       545\n",
      "   macro avg       0.48      0.44      0.43       545\n",
      "weighted avg       0.48      0.44      0.43       545\n",
      "\n",
      "\n",
      "Epoch 9/49\n",
      "----------\n"
     ]
    },
    {
     "name": "stderr",
     "output_type": "stream",
     "text": [
      "100%|██████████| 35/35 [03:23<00:00,  5.81s/it]\n"
     ]
    },
    {
     "name": "stdout",
     "output_type": "stream",
     "text": [
      "train Loss: 1.3916 Acc: 0.4481\n",
      "train Classification Report:\n",
      "              precision    recall  f1-score   support\n",
      "\n",
      "           0       0.43      0.43      0.43       874\n",
      "           1       0.49      0.58      0.53       874\n",
      "           2       0.37      0.30      0.33       874\n",
      "           3       0.41      0.36      0.38       874\n",
      "           4       0.50      0.57      0.53       874\n",
      "\n",
      "    accuracy                           0.45      4370\n",
      "   macro avg       0.44      0.45      0.44      4370\n",
      "weighted avg       0.44      0.45      0.44      4370\n",
      "\n"
     ]
    },
    {
     "name": "stderr",
     "output_type": "stream",
     "text": [
      "100%|██████████| 18/18 [00:38<00:00,  2.14s/it]\n"
     ]
    },
    {
     "name": "stdout",
     "output_type": "stream",
     "text": [
      "val Loss: 1.4157 Acc: 0.4495\n",
      "val Classification Report:\n",
      "              precision    recall  f1-score   support\n",
      "\n",
      "           0       0.37      0.41      0.39       109\n",
      "           1       0.59      0.46      0.52       109\n",
      "           2       0.37      0.30      0.33       109\n",
      "           3       0.35      0.51      0.41       109\n",
      "           4       0.71      0.56      0.63       109\n",
      "\n",
      "    accuracy                           0.45       545\n",
      "   macro avg       0.48      0.45      0.46       545\n",
      "weighted avg       0.48      0.45      0.46       545\n",
      "\n",
      "\n",
      "Epoch 10/49\n",
      "----------\n"
     ]
    },
    {
     "name": "stderr",
     "output_type": "stream",
     "text": [
      "100%|██████████| 35/35 [03:11<00:00,  5.48s/it]\n"
     ]
    },
    {
     "name": "stdout",
     "output_type": "stream",
     "text": [
      "train Loss: 1.3946 Acc: 0.4458\n",
      "train Classification Report:\n",
      "              precision    recall  f1-score   support\n",
      "\n",
      "           0       0.43      0.43      0.43       874\n",
      "           1       0.50      0.59      0.54       874\n",
      "           2       0.37      0.25      0.30       874\n",
      "           3       0.38      0.38      0.38       874\n",
      "           4       0.50      0.58      0.53       874\n",
      "\n",
      "    accuracy                           0.45      4370\n",
      "   macro avg       0.44      0.45      0.44      4370\n",
      "weighted avg       0.44      0.45      0.44      4370\n",
      "\n"
     ]
    },
    {
     "name": "stderr",
     "output_type": "stream",
     "text": [
      "100%|██████████| 18/18 [00:38<00:00,  2.12s/it]\n"
     ]
    },
    {
     "name": "stdout",
     "output_type": "stream",
     "text": [
      "val Loss: 1.4080 Acc: 0.4514\n",
      "val Classification Report:\n",
      "              precision    recall  f1-score   support\n",
      "\n",
      "           0       0.34      0.62      0.44       109\n",
      "           1       0.47      0.65      0.54       109\n",
      "           2       0.42      0.28      0.34       109\n",
      "           3       0.51      0.26      0.34       109\n",
      "           4       0.75      0.44      0.55       109\n",
      "\n",
      "    accuracy                           0.45       545\n",
      "   macro avg       0.50      0.45      0.44       545\n",
      "weighted avg       0.50      0.45      0.44       545\n",
      "\n",
      "\n",
      "Epoch 11/49\n",
      "----------\n"
     ]
    },
    {
     "name": "stderr",
     "output_type": "stream",
     "text": [
      "100%|██████████| 35/35 [03:07<00:00,  5.35s/it]\n"
     ]
    },
    {
     "name": "stdout",
     "output_type": "stream",
     "text": [
      "train Loss: 1.3837 Acc: 0.4540\n",
      "train Classification Report:\n",
      "              precision    recall  f1-score   support\n",
      "\n",
      "           0       0.43      0.46      0.44       874\n",
      "           1       0.50      0.60      0.55       874\n",
      "           2       0.40      0.32      0.35       874\n",
      "           3       0.41      0.34      0.37       874\n",
      "           4       0.50      0.55      0.52       874\n",
      "\n",
      "    accuracy                           0.45      4370\n",
      "   macro avg       0.45      0.45      0.45      4370\n",
      "weighted avg       0.45      0.45      0.45      4370\n",
      "\n"
     ]
    },
    {
     "name": "stderr",
     "output_type": "stream",
     "text": [
      "100%|██████████| 18/18 [00:38<00:00,  2.14s/it]\n"
     ]
    },
    {
     "name": "stdout",
     "output_type": "stream",
     "text": [
      "val Loss: 1.3856 Acc: 0.4532\n",
      "val Classification Report:\n",
      "              precision    recall  f1-score   support\n",
      "\n",
      "           0       0.44      0.33      0.38       109\n",
      "           1       0.50      0.57      0.53       109\n",
      "           2       0.39      0.29      0.33       109\n",
      "           3       0.36      0.47      0.41       109\n",
      "           4       0.57      0.61      0.59       109\n",
      "\n",
      "    accuracy                           0.45       545\n",
      "   macro avg       0.45      0.45      0.45       545\n",
      "weighted avg       0.45      0.45      0.45       545\n",
      "\n",
      "\n",
      "Epoch 12/49\n",
      "----------\n"
     ]
    },
    {
     "name": "stderr",
     "output_type": "stream",
     "text": [
      "100%|██████████| 35/35 [03:08<00:00,  5.38s/it]\n"
     ]
    },
    {
     "name": "stdout",
     "output_type": "stream",
     "text": [
      "train Loss: 1.3766 Acc: 0.4556\n",
      "train Classification Report:\n",
      "              precision    recall  f1-score   support\n",
      "\n",
      "           0       0.45      0.46      0.45       874\n",
      "           1       0.50      0.58      0.54       874\n",
      "           2       0.38      0.31      0.34       874\n",
      "           3       0.39      0.36      0.38       874\n",
      "           4       0.53      0.57      0.55       874\n",
      "\n",
      "    accuracy                           0.46      4370\n",
      "   macro avg       0.45      0.46      0.45      4370\n",
      "weighted avg       0.45      0.46      0.45      4370\n",
      "\n"
     ]
    },
    {
     "name": "stderr",
     "output_type": "stream",
     "text": [
      "100%|██████████| 18/18 [00:37<00:00,  2.11s/it]\n"
     ]
    },
    {
     "name": "stdout",
     "output_type": "stream",
     "text": [
      "val Loss: 1.4106 Acc: 0.4440\n",
      "val Classification Report:\n",
      "              precision    recall  f1-score   support\n",
      "\n",
      "           0       0.35      0.41      0.38       109\n",
      "           1       0.47      0.61      0.53       109\n",
      "           2       0.41      0.28      0.34       109\n",
      "           3       0.57      0.22      0.32       109\n",
      "           4       0.48      0.69      0.57       109\n",
      "\n",
      "    accuracy                           0.44       545\n",
      "   macro avg       0.46      0.44      0.43       545\n",
      "weighted avg       0.46      0.44      0.43       545\n",
      "\n",
      "\n",
      "Epoch 13/49\n",
      "----------\n"
     ]
    },
    {
     "name": "stderr",
     "output_type": "stream",
     "text": [
      "100%|██████████| 35/35 [03:04<00:00,  5.28s/it]\n"
     ]
    },
    {
     "name": "stdout",
     "output_type": "stream",
     "text": [
      "train Loss: 1.3707 Acc: 0.4568\n",
      "train Classification Report:\n",
      "              precision    recall  f1-score   support\n",
      "\n",
      "           0       0.44      0.48      0.46       874\n",
      "           1       0.51      0.56      0.53       874\n",
      "           2       0.39      0.31      0.34       874\n",
      "           3       0.41      0.35      0.37       874\n",
      "           4       0.51      0.58      0.54       874\n",
      "\n",
      "    accuracy                           0.46      4370\n",
      "   macro avg       0.45      0.46      0.45      4370\n",
      "weighted avg       0.45      0.46      0.45      4370\n",
      "\n"
     ]
    },
    {
     "name": "stderr",
     "output_type": "stream",
     "text": [
      "100%|██████████| 18/18 [00:38<00:00,  2.16s/it]\n"
     ]
    },
    {
     "name": "stdout",
     "output_type": "stream",
     "text": [
      "val Loss: 1.3889 Acc: 0.4569\n",
      "val Classification Report:\n",
      "              precision    recall  f1-score   support\n",
      "\n",
      "           0       0.35      0.47      0.40       109\n",
      "           1       0.53      0.48      0.50       109\n",
      "           2       0.36      0.39      0.38       109\n",
      "           3       0.47      0.37      0.41       109\n",
      "           4       0.63      0.58      0.60       109\n",
      "\n",
      "    accuracy                           0.46       545\n",
      "   macro avg       0.47      0.46      0.46       545\n",
      "weighted avg       0.47      0.46      0.46       545\n",
      "\n",
      "\n",
      "Epoch 14/49\n",
      "----------\n"
     ]
    },
    {
     "name": "stderr",
     "output_type": "stream",
     "text": [
      "100%|██████████| 35/35 [03:21<00:00,  5.76s/it]\n"
     ]
    },
    {
     "name": "stdout",
     "output_type": "stream",
     "text": [
      "train Loss: 1.3665 Acc: 0.4648\n",
      "train Classification Report:\n",
      "              precision    recall  f1-score   support\n",
      "\n",
      "           0       0.45      0.47      0.46       874\n",
      "           1       0.50      0.61      0.55       874\n",
      "           2       0.39      0.29      0.33       874\n",
      "           3       0.42      0.37      0.39       874\n",
      "           4       0.52      0.58      0.55       874\n",
      "\n",
      "    accuracy                           0.46      4370\n",
      "   macro avg       0.46      0.46      0.46      4370\n",
      "weighted avg       0.46      0.46      0.46      4370\n",
      "\n"
     ]
    },
    {
     "name": "stderr",
     "output_type": "stream",
     "text": [
      "100%|██████████| 18/18 [00:38<00:00,  2.13s/it]\n"
     ]
    },
    {
     "name": "stdout",
     "output_type": "stream",
     "text": [
      "val Loss: 1.4032 Acc: 0.4477\n",
      "val Classification Report:\n",
      "              precision    recall  f1-score   support\n",
      "\n",
      "           0       0.33      0.38      0.35       109\n",
      "           1       0.56      0.48      0.51       109\n",
      "           2       0.36      0.35      0.35       109\n",
      "           3       0.41      0.48      0.44       109\n",
      "           4       0.63      0.56      0.59       109\n",
      "\n",
      "    accuracy                           0.45       545\n",
      "   macro avg       0.46      0.45      0.45       545\n",
      "weighted avg       0.46      0.45      0.45       545\n",
      "\n",
      "\n",
      "Epoch 15/49\n",
      "----------\n"
     ]
    },
    {
     "name": "stderr",
     "output_type": "stream",
     "text": [
      "100%|██████████| 35/35 [03:06<00:00,  5.32s/it]\n"
     ]
    },
    {
     "name": "stdout",
     "output_type": "stream",
     "text": [
      "train Loss: 1.3604 Acc: 0.4634\n",
      "train Classification Report:\n",
      "              precision    recall  f1-score   support\n",
      "\n",
      "           0       0.44      0.46      0.45       874\n",
      "           1       0.52      0.60      0.56       874\n",
      "           2       0.39      0.35      0.37       874\n",
      "           3       0.41      0.34      0.37       874\n",
      "           4       0.52      0.56      0.54       874\n",
      "\n",
      "    accuracy                           0.46      4370\n",
      "   macro avg       0.46      0.46      0.46      4370\n",
      "weighted avg       0.46      0.46      0.46      4370\n",
      "\n"
     ]
    },
    {
     "name": "stderr",
     "output_type": "stream",
     "text": [
      "100%|██████████| 18/18 [00:39<00:00,  2.17s/it]\n"
     ]
    },
    {
     "name": "stdout",
     "output_type": "stream",
     "text": [
      "val Loss: 1.3984 Acc: 0.4477\n",
      "val Classification Report:\n",
      "              precision    recall  f1-score   support\n",
      "\n",
      "           0       0.35      0.48      0.40       109\n",
      "           1       0.47      0.59      0.52       109\n",
      "           2       0.41      0.22      0.29       109\n",
      "           3       0.44      0.35      0.39       109\n",
      "           4       0.57      0.61      0.59       109\n",
      "\n",
      "    accuracy                           0.45       545\n",
      "   macro avg       0.45      0.45      0.44       545\n",
      "weighted avg       0.45      0.45      0.44       545\n",
      "\n",
      "\n",
      "Epoch 16/49\n",
      "----------\n"
     ]
    },
    {
     "name": "stderr",
     "output_type": "stream",
     "text": [
      "100%|██████████| 35/35 [03:18<00:00,  5.67s/it]\n"
     ]
    },
    {
     "name": "stdout",
     "output_type": "stream",
     "text": [
      "train Loss: 1.3539 Acc: 0.4730\n",
      "train Classification Report:\n",
      "              precision    recall  f1-score   support\n",
      "\n",
      "           0       0.45      0.47      0.46       874\n",
      "           1       0.53      0.60      0.56       874\n",
      "           2       0.40      0.29      0.34       874\n",
      "           3       0.42      0.39      0.41       874\n",
      "           4       0.52      0.61      0.56       874\n",
      "\n",
      "    accuracy                           0.47      4370\n",
      "   macro avg       0.47      0.47      0.47      4370\n",
      "weighted avg       0.47      0.47      0.47      4370\n",
      "\n"
     ]
    },
    {
     "name": "stderr",
     "output_type": "stream",
     "text": [
      "100%|██████████| 18/18 [00:41<00:00,  2.32s/it]\n"
     ]
    },
    {
     "name": "stdout",
     "output_type": "stream",
     "text": [
      "val Loss: 1.3723 Acc: 0.4734\n",
      "val Classification Report:\n",
      "              precision    recall  f1-score   support\n",
      "\n",
      "           0       0.39      0.54      0.45       109\n",
      "           1       0.50      0.68      0.58       109\n",
      "           2       0.36      0.27      0.31       109\n",
      "           3       0.54      0.31      0.40       109\n",
      "           4       0.60      0.57      0.58       109\n",
      "\n",
      "    accuracy                           0.47       545\n",
      "   macro avg       0.48      0.47      0.46       545\n",
      "weighted avg       0.48      0.47      0.46       545\n",
      "\n",
      "\n",
      "Epoch 17/49\n",
      "----------\n"
     ]
    },
    {
     "name": "stderr",
     "output_type": "stream",
     "text": [
      "100%|██████████| 35/35 [03:09<00:00,  5.42s/it]\n"
     ]
    },
    {
     "name": "stdout",
     "output_type": "stream",
     "text": [
      "train Loss: 1.3567 Acc: 0.4714\n",
      "train Classification Report:\n",
      "              precision    recall  f1-score   support\n",
      "\n",
      "           0       0.45      0.48      0.47       874\n",
      "           1       0.51      0.62      0.56       874\n",
      "           2       0.41      0.31      0.35       874\n",
      "           3       0.42      0.36      0.39       874\n",
      "           4       0.53      0.59      0.56       874\n",
      "\n",
      "    accuracy                           0.47      4370\n",
      "   macro avg       0.46      0.47      0.46      4370\n",
      "weighted avg       0.46      0.47      0.46      4370\n",
      "\n"
     ]
    },
    {
     "name": "stderr",
     "output_type": "stream",
     "text": [
      "100%|██████████| 18/18 [00:38<00:00,  2.14s/it]\n"
     ]
    },
    {
     "name": "stdout",
     "output_type": "stream",
     "text": [
      "val Loss: 1.3920 Acc: 0.4587\n",
      "val Classification Report:\n",
      "              precision    recall  f1-score   support\n",
      "\n",
      "           0       0.37      0.54      0.44       109\n",
      "           1       0.62      0.55      0.59       109\n",
      "           2       0.36      0.28      0.32       109\n",
      "           3       0.40      0.40      0.40       109\n",
      "           4       0.59      0.51      0.55       109\n",
      "\n",
      "    accuracy                           0.46       545\n",
      "   macro avg       0.47      0.46      0.46       545\n",
      "weighted avg       0.47      0.46      0.46       545\n",
      "\n",
      "\n",
      "Epoch 18/49\n",
      "----------\n"
     ]
    },
    {
     "name": "stderr",
     "output_type": "stream",
     "text": [
      "100%|██████████| 35/35 [03:17<00:00,  5.65s/it]\n"
     ]
    },
    {
     "name": "stdout",
     "output_type": "stream",
     "text": [
      "train Loss: 1.3494 Acc: 0.4737\n",
      "train Classification Report:\n",
      "              precision    recall  f1-score   support\n",
      "\n",
      "           0       0.47      0.51      0.48       874\n",
      "           1       0.52      0.62      0.57       874\n",
      "           2       0.40      0.29      0.33       874\n",
      "           3       0.40      0.36      0.38       874\n",
      "           4       0.54      0.59      0.57       874\n",
      "\n",
      "    accuracy                           0.47      4370\n",
      "   macro avg       0.46      0.47      0.47      4370\n",
      "weighted avg       0.46      0.47      0.47      4370\n",
      "\n"
     ]
    },
    {
     "name": "stderr",
     "output_type": "stream",
     "text": [
      "100%|██████████| 18/18 [00:39<00:00,  2.20s/it]\n"
     ]
    },
    {
     "name": "stdout",
     "output_type": "stream",
     "text": [
      "val Loss: 1.4119 Acc: 0.4459\n",
      "val Classification Report:\n",
      "              precision    recall  f1-score   support\n",
      "\n",
      "           0       0.44      0.40      0.42       109\n",
      "           1       0.53      0.50      0.52       109\n",
      "           2       0.36      0.42      0.39       109\n",
      "           3       0.47      0.21      0.29       109\n",
      "           4       0.45      0.69      0.55       109\n",
      "\n",
      "    accuracy                           0.45       545\n",
      "   macro avg       0.45      0.45      0.43       545\n",
      "weighted avg       0.45      0.45      0.43       545\n",
      "\n",
      "\n",
      "Epoch 19/49\n",
      "----------\n"
     ]
    },
    {
     "name": "stderr",
     "output_type": "stream",
     "text": [
      "100%|██████████| 35/35 [03:18<00:00,  5.67s/it]\n"
     ]
    },
    {
     "name": "stdout",
     "output_type": "stream",
     "text": [
      "train Loss: 1.3494 Acc: 0.4725\n",
      "train Classification Report:\n",
      "              precision    recall  f1-score   support\n",
      "\n",
      "           0       0.44      0.47      0.46       874\n",
      "           1       0.53      0.60      0.56       874\n",
      "           2       0.39      0.32      0.35       874\n",
      "           3       0.45      0.36      0.40       874\n",
      "           4       0.52      0.61      0.56       874\n",
      "\n",
      "    accuracy                           0.47      4370\n",
      "   macro avg       0.47      0.47      0.47      4370\n",
      "weighted avg       0.47      0.47      0.47      4370\n",
      "\n"
     ]
    },
    {
     "name": "stderr",
     "output_type": "stream",
     "text": [
      "100%|██████████| 18/18 [00:40<00:00,  2.26s/it]\n"
     ]
    },
    {
     "name": "stdout",
     "output_type": "stream",
     "text": [
      "val Loss: 1.3886 Acc: 0.4459\n",
      "val Classification Report:\n",
      "              precision    recall  f1-score   support\n",
      "\n",
      "           0       0.35      0.46      0.40       109\n",
      "           1       0.50      0.55      0.52       109\n",
      "           2       0.37      0.23      0.28       109\n",
      "           3       0.39      0.39      0.39       109\n",
      "           4       0.61      0.61      0.61       109\n",
      "\n",
      "    accuracy                           0.45       545\n",
      "   macro avg       0.45      0.45      0.44       545\n",
      "weighted avg       0.45      0.45      0.44       545\n",
      "\n",
      "\n",
      "Epoch 20/49\n",
      "----------\n"
     ]
    },
    {
     "name": "stderr",
     "output_type": "stream",
     "text": [
      "100%|██████████| 35/35 [03:15<00:00,  5.59s/it]\n"
     ]
    },
    {
     "name": "stdout",
     "output_type": "stream",
     "text": [
      "train Loss: 1.3367 Acc: 0.4805\n",
      "train Classification Report:\n",
      "              precision    recall  f1-score   support\n",
      "\n",
      "           0       0.45      0.49      0.47       874\n",
      "           1       0.52      0.64      0.58       874\n",
      "           2       0.40      0.29      0.34       874\n",
      "           3       0.44      0.39      0.41       874\n",
      "           4       0.55      0.59      0.57       874\n",
      "\n",
      "    accuracy                           0.48      4370\n",
      "   macro avg       0.47      0.48      0.47      4370\n",
      "weighted avg       0.47      0.48      0.47      4370\n",
      "\n"
     ]
    },
    {
     "name": "stderr",
     "output_type": "stream",
     "text": [
      "100%|██████████| 18/18 [00:39<00:00,  2.18s/it]\n"
     ]
    },
    {
     "name": "stdout",
     "output_type": "stream",
     "text": [
      "val Loss: 1.3933 Acc: 0.4899\n",
      "val Classification Report:\n",
      "              precision    recall  f1-score   support\n",
      "\n",
      "           0       0.49      0.29      0.37       109\n",
      "           1       0.64      0.59      0.61       109\n",
      "           2       0.36      0.42      0.39       109\n",
      "           3       0.46      0.48      0.47       109\n",
      "           4       0.53      0.67      0.59       109\n",
      "\n",
      "    accuracy                           0.49       545\n",
      "   macro avg       0.50      0.49      0.49       545\n",
      "weighted avg       0.50      0.49      0.49       545\n",
      "\n",
      "\n",
      "Epoch 21/49\n",
      "----------\n"
     ]
    },
    {
     "name": "stderr",
     "output_type": "stream",
     "text": [
      "100%|██████████| 35/35 [03:23<00:00,  5.80s/it]\n"
     ]
    },
    {
     "name": "stdout",
     "output_type": "stream",
     "text": [
      "train Loss: 1.3437 Acc: 0.4728\n",
      "train Classification Report:\n",
      "              precision    recall  f1-score   support\n",
      "\n",
      "           0       0.46      0.46      0.46       874\n",
      "           1       0.53      0.61      0.57       874\n",
      "           2       0.39      0.37      0.38       874\n",
      "           3       0.41      0.34      0.37       874\n",
      "           4       0.54      0.58      0.56       874\n",
      "\n",
      "    accuracy                           0.47      4370\n",
      "   macro avg       0.47      0.47      0.47      4370\n",
      "weighted avg       0.47      0.47      0.47      4370\n",
      "\n"
     ]
    },
    {
     "name": "stderr",
     "output_type": "stream",
     "text": [
      "100%|██████████| 18/18 [00:40<00:00,  2.23s/it]\n"
     ]
    },
    {
     "name": "stdout",
     "output_type": "stream",
     "text": [
      "val Loss: 1.3636 Acc: 0.4606\n",
      "val Classification Report:\n",
      "              precision    recall  f1-score   support\n",
      "\n",
      "           0       0.41      0.48      0.44       109\n",
      "           1       0.47      0.69      0.56       109\n",
      "           2       0.35      0.25      0.29       109\n",
      "           3       0.53      0.28      0.37       109\n",
      "           4       0.53      0.61      0.56       109\n",
      "\n",
      "    accuracy                           0.46       545\n",
      "   macro avg       0.46      0.46      0.45       545\n",
      "weighted avg       0.46      0.46      0.45       545\n",
      "\n",
      "\n",
      "Epoch 22/49\n",
      "----------\n"
     ]
    },
    {
     "name": "stderr",
     "output_type": "stream",
     "text": [
      "100%|██████████| 35/35 [03:20<00:00,  5.72s/it]\n"
     ]
    },
    {
     "name": "stdout",
     "output_type": "stream",
     "text": [
      "train Loss: 1.3340 Acc: 0.4785\n",
      "train Classification Report:\n",
      "              precision    recall  f1-score   support\n",
      "\n",
      "           0       0.45      0.50      0.47       874\n",
      "           1       0.53      0.62      0.57       874\n",
      "           2       0.42      0.32      0.36       874\n",
      "           3       0.43      0.37      0.40       874\n",
      "           4       0.54      0.59      0.56       874\n",
      "\n",
      "    accuracy                           0.48      4370\n",
      "   macro avg       0.47      0.48      0.47      4370\n",
      "weighted avg       0.47      0.48      0.47      4370\n",
      "\n"
     ]
    },
    {
     "name": "stderr",
     "output_type": "stream",
     "text": [
      "100%|██████████| 18/18 [00:39<00:00,  2.21s/it]\n"
     ]
    },
    {
     "name": "stdout",
     "output_type": "stream",
     "text": [
      "val Loss: 1.3782 Acc: 0.4532\n",
      "val Classification Report:\n",
      "              precision    recall  f1-score   support\n",
      "\n",
      "           0       0.35      0.58      0.43       109\n",
      "           1       0.57      0.58      0.57       109\n",
      "           2       0.39      0.28      0.33       109\n",
      "           3       0.44      0.27      0.33       109\n",
      "           4       0.58      0.56      0.57       109\n",
      "\n",
      "    accuracy                           0.45       545\n",
      "   macro avg       0.46      0.45      0.45       545\n",
      "weighted avg       0.46      0.45      0.45       545\n",
      "\n",
      "\n",
      "Epoch 23/49\n",
      "----------\n"
     ]
    },
    {
     "name": "stderr",
     "output_type": "stream",
     "text": [
      "100%|██████████| 35/35 [03:16<00:00,  5.61s/it]\n"
     ]
    },
    {
     "name": "stdout",
     "output_type": "stream",
     "text": [
      "train Loss: 1.3332 Acc: 0.4817\n",
      "train Classification Report:\n",
      "              precision    recall  f1-score   support\n",
      "\n",
      "           0       0.46      0.48      0.47       874\n",
      "           1       0.52      0.61      0.56       874\n",
      "           2       0.41      0.35      0.38       874\n",
      "           3       0.42      0.38      0.40       874\n",
      "           4       0.55      0.59      0.57       874\n",
      "\n",
      "    accuracy                           0.48      4370\n",
      "   macro avg       0.48      0.48      0.48      4370\n",
      "weighted avg       0.48      0.48      0.48      4370\n",
      "\n"
     ]
    },
    {
     "name": "stderr",
     "output_type": "stream",
     "text": [
      "100%|██████████| 18/18 [00:38<00:00,  2.15s/it]\n"
     ]
    },
    {
     "name": "stdout",
     "output_type": "stream",
     "text": [
      "val Loss: 1.3848 Acc: 0.4679\n",
      "val Classification Report:\n",
      "              precision    recall  f1-score   support\n",
      "\n",
      "           0       0.38      0.41      0.39       109\n",
      "           1       0.54      0.57      0.55       109\n",
      "           2       0.43      0.38      0.40       109\n",
      "           3       0.49      0.36      0.41       109\n",
      "           4       0.50      0.62      0.56       109\n",
      "\n",
      "    accuracy                           0.47       545\n",
      "   macro avg       0.47      0.47      0.46       545\n",
      "weighted avg       0.47      0.47      0.46       545\n",
      "\n",
      "\n",
      "Epoch 24/49\n",
      "----------\n"
     ]
    },
    {
     "name": "stderr",
     "output_type": "stream",
     "text": [
      "100%|██████████| 35/35 [03:21<00:00,  5.75s/it]\n"
     ]
    },
    {
     "name": "stdout",
     "output_type": "stream",
     "text": [
      "train Loss: 1.3312 Acc: 0.4776\n",
      "train Classification Report:\n",
      "              precision    recall  f1-score   support\n",
      "\n",
      "           0       0.46      0.53      0.49       874\n",
      "           1       0.52      0.59      0.55       874\n",
      "           2       0.40      0.31      0.35       874\n",
      "           3       0.43      0.35      0.39       874\n",
      "           4       0.53      0.62      0.57       874\n",
      "\n",
      "    accuracy                           0.48      4370\n",
      "   macro avg       0.47      0.48      0.47      4370\n",
      "weighted avg       0.47      0.48      0.47      4370\n",
      "\n"
     ]
    },
    {
     "name": "stderr",
     "output_type": "stream",
     "text": [
      "100%|██████████| 18/18 [00:40<00:00,  2.26s/it]\n"
     ]
    },
    {
     "name": "stdout",
     "output_type": "stream",
     "text": [
      "val Loss: 1.3792 Acc: 0.4642\n",
      "val Classification Report:\n",
      "              precision    recall  f1-score   support\n",
      "\n",
      "           0       0.37      0.51      0.43       109\n",
      "           1       0.59      0.55      0.57       109\n",
      "           2       0.39      0.25      0.30       109\n",
      "           3       0.42      0.38      0.40       109\n",
      "           4       0.54      0.63      0.58       109\n",
      "\n",
      "    accuracy                           0.46       545\n",
      "   macro avg       0.46      0.46      0.46       545\n",
      "weighted avg       0.46      0.46      0.46       545\n",
      "\n",
      "\n",
      "Epoch 25/49\n",
      "----------\n"
     ]
    },
    {
     "name": "stderr",
     "output_type": "stream",
     "text": [
      "100%|██████████| 35/35 [03:22<00:00,  5.80s/it]\n"
     ]
    },
    {
     "name": "stdout",
     "output_type": "stream",
     "text": [
      "train Loss: 1.3148 Acc: 0.4968\n",
      "train Classification Report:\n",
      "              precision    recall  f1-score   support\n",
      "\n",
      "           0       0.46      0.49      0.47       874\n",
      "           1       0.54      0.65      0.59       874\n",
      "           2       0.45      0.33      0.38       874\n",
      "           3       0.44      0.41      0.43       874\n",
      "           4       0.56      0.60      0.58       874\n",
      "\n",
      "    accuracy                           0.50      4370\n",
      "   macro avg       0.49      0.50      0.49      4370\n",
      "weighted avg       0.49      0.50      0.49      4370\n",
      "\n"
     ]
    },
    {
     "name": "stderr",
     "output_type": "stream",
     "text": [
      "100%|██████████| 18/18 [00:39<00:00,  2.20s/it]\n"
     ]
    },
    {
     "name": "stdout",
     "output_type": "stream",
     "text": [
      "val Loss: 1.3701 Acc: 0.4661\n",
      "val Classification Report:\n",
      "              precision    recall  f1-score   support\n",
      "\n",
      "           0       0.37      0.46      0.41       109\n",
      "           1       0.59      0.47      0.52       109\n",
      "           2       0.33      0.38      0.35       109\n",
      "           3       0.55      0.40      0.47       109\n",
      "           4       0.56      0.62      0.59       109\n",
      "\n",
      "    accuracy                           0.47       545\n",
      "   macro avg       0.48      0.47      0.47       545\n",
      "weighted avg       0.48      0.47      0.47       545\n",
      "\n",
      "\n",
      "Epoch 26/49\n",
      "----------\n"
     ]
    },
    {
     "name": "stderr",
     "output_type": "stream",
     "text": [
      "100%|██████████| 35/35 [03:34<00:00,  6.12s/it]\n"
     ]
    },
    {
     "name": "stdout",
     "output_type": "stream",
     "text": [
      "train Loss: 1.3309 Acc: 0.4886\n",
      "train Classification Report:\n",
      "              precision    recall  f1-score   support\n",
      "\n",
      "           0       0.47      0.50      0.48       874\n",
      "           1       0.54      0.60      0.57       874\n",
      "           2       0.42      0.33      0.37       874\n",
      "           3       0.43      0.40      0.41       874\n",
      "           4       0.55      0.61      0.58       874\n",
      "\n",
      "    accuracy                           0.49      4370\n",
      "   macro avg       0.48      0.49      0.48      4370\n",
      "weighted avg       0.48      0.49      0.48      4370\n",
      "\n"
     ]
    },
    {
     "name": "stderr",
     "output_type": "stream",
     "text": [
      "100%|██████████| 18/18 [00:39<00:00,  2.21s/it]\n"
     ]
    },
    {
     "name": "stdout",
     "output_type": "stream",
     "text": [
      "val Loss: 1.3818 Acc: 0.4697\n",
      "val Classification Report:\n",
      "              precision    recall  f1-score   support\n",
      "\n",
      "           0       0.39      0.49      0.43       109\n",
      "           1       0.49      0.57      0.53       109\n",
      "           2       0.37      0.43      0.40       109\n",
      "           3       0.46      0.34      0.39       109\n",
      "           4       0.75      0.52      0.62       109\n",
      "\n",
      "    accuracy                           0.47       545\n",
      "   macro avg       0.49      0.47      0.47       545\n",
      "weighted avg       0.49      0.47      0.47       545\n",
      "\n",
      "\n",
      "Epoch 27/49\n",
      "----------\n"
     ]
    },
    {
     "name": "stderr",
     "output_type": "stream",
     "text": [
      " 80%|████████  | 28/35 [02:33<00:38,  5.48s/it]\n"
     ]
    },
    {
     "ename": "KeyboardInterrupt",
     "evalue": "",
     "output_type": "error",
     "traceback": [
      "\u001b[31m---------------------------------------------------------------------------\u001b[39m",
      "\u001b[31mKeyboardInterrupt\u001b[39m                         Traceback (most recent call last)",
      "\u001b[36mCell\u001b[39m\u001b[36m \u001b[39m\u001b[32mIn[24]\u001b[39m\u001b[32m, line 1\u001b[39m\n\u001b[32m----> \u001b[39m\u001b[32m1\u001b[39m model_ft = \u001b[43mtrain_model\u001b[49m\u001b[43m(\u001b[49m\u001b[43mmodel\u001b[49m\u001b[43m,\u001b[49m\u001b[43m \u001b[49m\u001b[43mcriterion\u001b[49m\u001b[43m,\u001b[49m\u001b[43m \u001b[49m\u001b[43moptimizer\u001b[49m\u001b[43m,\u001b[49m\u001b[43m \u001b[49m\u001b[43mexp_lr_scheduler\u001b[49m\u001b[43m,\u001b[49m\u001b[43m \u001b[49m\u001b[43mdataloaders\u001b[49m\u001b[43m,\u001b[49m\u001b[43m \u001b[49m\u001b[43mdataset_sizes\u001b[49m\u001b[43m,\u001b[49m\u001b[43m \u001b[49m\u001b[43mdevice\u001b[49m\u001b[43m,\u001b[49m\u001b[43m \u001b[49m\u001b[43mnum_epochs\u001b[49m\u001b[43m=\u001b[49m\u001b[32;43m50\u001b[39;49m\u001b[43m)\u001b[49m\n",
      "\u001b[36mCell\u001b[39m\u001b[36m \u001b[39m\u001b[32mIn[23]\u001b[39m\u001b[32m, line 40\u001b[39m, in \u001b[36mtrain_model\u001b[39m\u001b[34m(model, criterion, optimizer, scheduler, dataloaders, dataset_sizes, device, num_epochs, class_names)\u001b[39m\n\u001b[32m     37\u001b[39m optimizer.zero_grad()\n\u001b[32m     39\u001b[39m \u001b[38;5;28;01mwith\u001b[39;00m torch.set_grad_enabled(phase == \u001b[33m'\u001b[39m\u001b[33mtrain\u001b[39m\u001b[33m'\u001b[39m):\n\u001b[32m---> \u001b[39m\u001b[32m40\u001b[39m     outputs = \u001b[43mmodel\u001b[49m\u001b[43m(\u001b[49m\u001b[43minputs\u001b[49m\u001b[43m)\u001b[49m\n\u001b[32m     41\u001b[39m     _, preds = torch.max(outputs, \u001b[32m1\u001b[39m)\n\u001b[32m     42\u001b[39m     loss = criterion(outputs, labels)\n",
      "\u001b[36mFile \u001b[39m\u001b[32m/opt/homebrew/lib/python3.11/site-packages/torch/nn/modules/module.py:1739\u001b[39m, in \u001b[36mModule._wrapped_call_impl\u001b[39m\u001b[34m(self, *args, **kwargs)\u001b[39m\n\u001b[32m   1737\u001b[39m     \u001b[38;5;28;01mreturn\u001b[39;00m \u001b[38;5;28mself\u001b[39m._compiled_call_impl(*args, **kwargs)  \u001b[38;5;66;03m# type: ignore[misc]\u001b[39;00m\n\u001b[32m   1738\u001b[39m \u001b[38;5;28;01melse\u001b[39;00m:\n\u001b[32m-> \u001b[39m\u001b[32m1739\u001b[39m     \u001b[38;5;28;01mreturn\u001b[39;00m \u001b[38;5;28;43mself\u001b[39;49m\u001b[43m.\u001b[49m\u001b[43m_call_impl\u001b[49m\u001b[43m(\u001b[49m\u001b[43m*\u001b[49m\u001b[43margs\u001b[49m\u001b[43m,\u001b[49m\u001b[43m \u001b[49m\u001b[43m*\u001b[49m\u001b[43m*\u001b[49m\u001b[43mkwargs\u001b[49m\u001b[43m)\u001b[49m\n",
      "\u001b[36mFile \u001b[39m\u001b[32m/opt/homebrew/lib/python3.11/site-packages/torch/nn/modules/module.py:1750\u001b[39m, in \u001b[36mModule._call_impl\u001b[39m\u001b[34m(self, *args, **kwargs)\u001b[39m\n\u001b[32m   1745\u001b[39m \u001b[38;5;66;03m# If we don't have any hooks, we want to skip the rest of the logic in\u001b[39;00m\n\u001b[32m   1746\u001b[39m \u001b[38;5;66;03m# this function, and just call forward.\u001b[39;00m\n\u001b[32m   1747\u001b[39m \u001b[38;5;28;01mif\u001b[39;00m \u001b[38;5;129;01mnot\u001b[39;00m (\u001b[38;5;28mself\u001b[39m._backward_hooks \u001b[38;5;129;01mor\u001b[39;00m \u001b[38;5;28mself\u001b[39m._backward_pre_hooks \u001b[38;5;129;01mor\u001b[39;00m \u001b[38;5;28mself\u001b[39m._forward_hooks \u001b[38;5;129;01mor\u001b[39;00m \u001b[38;5;28mself\u001b[39m._forward_pre_hooks\n\u001b[32m   1748\u001b[39m         \u001b[38;5;129;01mor\u001b[39;00m _global_backward_pre_hooks \u001b[38;5;129;01mor\u001b[39;00m _global_backward_hooks\n\u001b[32m   1749\u001b[39m         \u001b[38;5;129;01mor\u001b[39;00m _global_forward_hooks \u001b[38;5;129;01mor\u001b[39;00m _global_forward_pre_hooks):\n\u001b[32m-> \u001b[39m\u001b[32m1750\u001b[39m     \u001b[38;5;28;01mreturn\u001b[39;00m \u001b[43mforward_call\u001b[49m\u001b[43m(\u001b[49m\u001b[43m*\u001b[49m\u001b[43margs\u001b[49m\u001b[43m,\u001b[49m\u001b[43m \u001b[49m\u001b[43m*\u001b[49m\u001b[43m*\u001b[49m\u001b[43mkwargs\u001b[49m\u001b[43m)\u001b[49m\n\u001b[32m   1752\u001b[39m result = \u001b[38;5;28;01mNone\u001b[39;00m\n\u001b[32m   1753\u001b[39m called_always_called_hooks = \u001b[38;5;28mset\u001b[39m()\n",
      "\u001b[36mFile \u001b[39m\u001b[32m~/.cache/torch/hub/SharanSMenon_swin-transformer-hub_main/swin.py:576\u001b[39m, in \u001b[36mSwinTransformer.forward\u001b[39m\u001b[34m(self, x)\u001b[39m\n\u001b[32m    575\u001b[39m \u001b[38;5;28;01mdef\u001b[39;00m\u001b[38;5;250m \u001b[39m\u001b[34mforward\u001b[39m(\u001b[38;5;28mself\u001b[39m, x):\n\u001b[32m--> \u001b[39m\u001b[32m576\u001b[39m     x = \u001b[38;5;28;43mself\u001b[39;49m\u001b[43m.\u001b[49m\u001b[43mforward_features\u001b[49m\u001b[43m(\u001b[49m\u001b[43mx\u001b[49m\u001b[43m)\u001b[49m\n\u001b[32m    577\u001b[39m     x = \u001b[38;5;28mself\u001b[39m.head(x)\n\u001b[32m    578\u001b[39m     \u001b[38;5;28;01mreturn\u001b[39;00m x\n",
      "\u001b[36mFile \u001b[39m\u001b[32m~/.cache/torch/hub/SharanSMenon_swin-transformer-hub_main/swin.py:568\u001b[39m, in \u001b[36mSwinTransformer.forward_features\u001b[39m\u001b[34m(self, x)\u001b[39m\n\u001b[32m    565\u001b[39m x = \u001b[38;5;28mself\u001b[39m.pos_drop(x)\n\u001b[32m    567\u001b[39m \u001b[38;5;28;01mfor\u001b[39;00m layer \u001b[38;5;129;01min\u001b[39;00m \u001b[38;5;28mself\u001b[39m.layers:\n\u001b[32m--> \u001b[39m\u001b[32m568\u001b[39m     x = \u001b[43mlayer\u001b[49m\u001b[43m(\u001b[49m\u001b[43mx\u001b[49m\u001b[43m)\u001b[49m\n\u001b[32m    570\u001b[39m x = \u001b[38;5;28mself\u001b[39m.norm(x)  \u001b[38;5;66;03m# B L C\u001b[39;00m\n\u001b[32m    571\u001b[39m x = \u001b[38;5;28mself\u001b[39m.avgpool(x.transpose(\u001b[32m1\u001b[39m, \u001b[32m2\u001b[39m))  \u001b[38;5;66;03m# B C 1\u001b[39;00m\n",
      "\u001b[36mFile \u001b[39m\u001b[32m/opt/homebrew/lib/python3.11/site-packages/torch/nn/modules/module.py:1739\u001b[39m, in \u001b[36mModule._wrapped_call_impl\u001b[39m\u001b[34m(self, *args, **kwargs)\u001b[39m\n\u001b[32m   1737\u001b[39m     \u001b[38;5;28;01mreturn\u001b[39;00m \u001b[38;5;28mself\u001b[39m._compiled_call_impl(*args, **kwargs)  \u001b[38;5;66;03m# type: ignore[misc]\u001b[39;00m\n\u001b[32m   1738\u001b[39m \u001b[38;5;28;01melse\u001b[39;00m:\n\u001b[32m-> \u001b[39m\u001b[32m1739\u001b[39m     \u001b[38;5;28;01mreturn\u001b[39;00m \u001b[38;5;28;43mself\u001b[39;49m\u001b[43m.\u001b[49m\u001b[43m_call_impl\u001b[49m\u001b[43m(\u001b[49m\u001b[43m*\u001b[49m\u001b[43margs\u001b[49m\u001b[43m,\u001b[49m\u001b[43m \u001b[49m\u001b[43m*\u001b[49m\u001b[43m*\u001b[49m\u001b[43mkwargs\u001b[49m\u001b[43m)\u001b[49m\n",
      "\u001b[36mFile \u001b[39m\u001b[32m/opt/homebrew/lib/python3.11/site-packages/torch/nn/modules/module.py:1750\u001b[39m, in \u001b[36mModule._call_impl\u001b[39m\u001b[34m(self, *args, **kwargs)\u001b[39m\n\u001b[32m   1745\u001b[39m \u001b[38;5;66;03m# If we don't have any hooks, we want to skip the rest of the logic in\u001b[39;00m\n\u001b[32m   1746\u001b[39m \u001b[38;5;66;03m# this function, and just call forward.\u001b[39;00m\n\u001b[32m   1747\u001b[39m \u001b[38;5;28;01mif\u001b[39;00m \u001b[38;5;129;01mnot\u001b[39;00m (\u001b[38;5;28mself\u001b[39m._backward_hooks \u001b[38;5;129;01mor\u001b[39;00m \u001b[38;5;28mself\u001b[39m._backward_pre_hooks \u001b[38;5;129;01mor\u001b[39;00m \u001b[38;5;28mself\u001b[39m._forward_hooks \u001b[38;5;129;01mor\u001b[39;00m \u001b[38;5;28mself\u001b[39m._forward_pre_hooks\n\u001b[32m   1748\u001b[39m         \u001b[38;5;129;01mor\u001b[39;00m _global_backward_pre_hooks \u001b[38;5;129;01mor\u001b[39;00m _global_backward_hooks\n\u001b[32m   1749\u001b[39m         \u001b[38;5;129;01mor\u001b[39;00m _global_forward_hooks \u001b[38;5;129;01mor\u001b[39;00m _global_forward_pre_hooks):\n\u001b[32m-> \u001b[39m\u001b[32m1750\u001b[39m     \u001b[38;5;28;01mreturn\u001b[39;00m \u001b[43mforward_call\u001b[49m\u001b[43m(\u001b[49m\u001b[43m*\u001b[49m\u001b[43margs\u001b[49m\u001b[43m,\u001b[49m\u001b[43m \u001b[49m\u001b[43m*\u001b[49m\u001b[43m*\u001b[49m\u001b[43mkwargs\u001b[49m\u001b[43m)\u001b[49m\n\u001b[32m   1752\u001b[39m result = \u001b[38;5;28;01mNone\u001b[39;00m\n\u001b[32m   1753\u001b[39m called_always_called_hooks = \u001b[38;5;28mset\u001b[39m()\n",
      "\u001b[36mFile \u001b[39m\u001b[32m~/.cache/torch/hub/SharanSMenon_swin-transformer-hub_main/swin.py:393\u001b[39m, in \u001b[36mBasicLayer.forward\u001b[39m\u001b[34m(self, x)\u001b[39m\n\u001b[32m    391\u001b[39m         x = checkpoint.checkpoint(blk, x)\n\u001b[32m    392\u001b[39m     \u001b[38;5;28;01melse\u001b[39;00m:\n\u001b[32m--> \u001b[39m\u001b[32m393\u001b[39m         x = \u001b[43mblk\u001b[49m\u001b[43m(\u001b[49m\u001b[43mx\u001b[49m\u001b[43m)\u001b[49m\n\u001b[32m    394\u001b[39m \u001b[38;5;28;01mif\u001b[39;00m \u001b[38;5;28mself\u001b[39m.downsample \u001b[38;5;129;01mis\u001b[39;00m \u001b[38;5;129;01mnot\u001b[39;00m \u001b[38;5;28;01mNone\u001b[39;00m:\n\u001b[32m    395\u001b[39m     x = \u001b[38;5;28mself\u001b[39m.downsample(x)\n",
      "\u001b[36mFile \u001b[39m\u001b[32m/opt/homebrew/lib/python3.11/site-packages/torch/nn/modules/module.py:1739\u001b[39m, in \u001b[36mModule._wrapped_call_impl\u001b[39m\u001b[34m(self, *args, **kwargs)\u001b[39m\n\u001b[32m   1737\u001b[39m     \u001b[38;5;28;01mreturn\u001b[39;00m \u001b[38;5;28mself\u001b[39m._compiled_call_impl(*args, **kwargs)  \u001b[38;5;66;03m# type: ignore[misc]\u001b[39;00m\n\u001b[32m   1738\u001b[39m \u001b[38;5;28;01melse\u001b[39;00m:\n\u001b[32m-> \u001b[39m\u001b[32m1739\u001b[39m     \u001b[38;5;28;01mreturn\u001b[39;00m \u001b[38;5;28;43mself\u001b[39;49m\u001b[43m.\u001b[49m\u001b[43m_call_impl\u001b[49m\u001b[43m(\u001b[49m\u001b[43m*\u001b[49m\u001b[43margs\u001b[49m\u001b[43m,\u001b[49m\u001b[43m \u001b[49m\u001b[43m*\u001b[49m\u001b[43m*\u001b[49m\u001b[43mkwargs\u001b[49m\u001b[43m)\u001b[49m\n",
      "\u001b[36mFile \u001b[39m\u001b[32m/opt/homebrew/lib/python3.11/site-packages/torch/nn/modules/module.py:1750\u001b[39m, in \u001b[36mModule._call_impl\u001b[39m\u001b[34m(self, *args, **kwargs)\u001b[39m\n\u001b[32m   1745\u001b[39m \u001b[38;5;66;03m# If we don't have any hooks, we want to skip the rest of the logic in\u001b[39;00m\n\u001b[32m   1746\u001b[39m \u001b[38;5;66;03m# this function, and just call forward.\u001b[39;00m\n\u001b[32m   1747\u001b[39m \u001b[38;5;28;01mif\u001b[39;00m \u001b[38;5;129;01mnot\u001b[39;00m (\u001b[38;5;28mself\u001b[39m._backward_hooks \u001b[38;5;129;01mor\u001b[39;00m \u001b[38;5;28mself\u001b[39m._backward_pre_hooks \u001b[38;5;129;01mor\u001b[39;00m \u001b[38;5;28mself\u001b[39m._forward_hooks \u001b[38;5;129;01mor\u001b[39;00m \u001b[38;5;28mself\u001b[39m._forward_pre_hooks\n\u001b[32m   1748\u001b[39m         \u001b[38;5;129;01mor\u001b[39;00m _global_backward_pre_hooks \u001b[38;5;129;01mor\u001b[39;00m _global_backward_hooks\n\u001b[32m   1749\u001b[39m         \u001b[38;5;129;01mor\u001b[39;00m _global_forward_hooks \u001b[38;5;129;01mor\u001b[39;00m _global_forward_pre_hooks):\n\u001b[32m-> \u001b[39m\u001b[32m1750\u001b[39m     \u001b[38;5;28;01mreturn\u001b[39;00m \u001b[43mforward_call\u001b[49m\u001b[43m(\u001b[49m\u001b[43m*\u001b[49m\u001b[43margs\u001b[49m\u001b[43m,\u001b[49m\u001b[43m \u001b[49m\u001b[43m*\u001b[49m\u001b[43m*\u001b[49m\u001b[43mkwargs\u001b[49m\u001b[43m)\u001b[49m\n\u001b[32m   1752\u001b[39m result = \u001b[38;5;28;01mNone\u001b[39;00m\n\u001b[32m   1753\u001b[39m called_always_called_hooks = \u001b[38;5;28mset\u001b[39m()\n",
      "\u001b[36mFile \u001b[39m\u001b[32m~/.cache/torch/hub/SharanSMenon_swin-transformer-hub_main/swin.py:268\u001b[39m, in \u001b[36mSwinTransformerBlock.forward\u001b[39m\u001b[34m(self, x)\u001b[39m\n\u001b[32m    266\u001b[39m \u001b[38;5;66;03m# FFN\u001b[39;00m\n\u001b[32m    267\u001b[39m x = shortcut + \u001b[38;5;28mself\u001b[39m.drop_path(x)\n\u001b[32m--> \u001b[39m\u001b[32m268\u001b[39m x = x + \u001b[38;5;28mself\u001b[39m.drop_path(\u001b[38;5;28;43mself\u001b[39;49m\u001b[43m.\u001b[49m\u001b[43mmlp\u001b[49m\u001b[43m(\u001b[49m\u001b[38;5;28;43mself\u001b[39;49m\u001b[43m.\u001b[49m\u001b[43mnorm2\u001b[49m\u001b[43m(\u001b[49m\u001b[43mx\u001b[49m\u001b[43m)\u001b[49m\u001b[43m)\u001b[49m)\n\u001b[32m    270\u001b[39m \u001b[38;5;28;01mreturn\u001b[39;00m x\n",
      "\u001b[36mFile \u001b[39m\u001b[32m/opt/homebrew/lib/python3.11/site-packages/torch/nn/modules/module.py:1739\u001b[39m, in \u001b[36mModule._wrapped_call_impl\u001b[39m\u001b[34m(self, *args, **kwargs)\u001b[39m\n\u001b[32m   1737\u001b[39m     \u001b[38;5;28;01mreturn\u001b[39;00m \u001b[38;5;28mself\u001b[39m._compiled_call_impl(*args, **kwargs)  \u001b[38;5;66;03m# type: ignore[misc]\u001b[39;00m\n\u001b[32m   1738\u001b[39m \u001b[38;5;28;01melse\u001b[39;00m:\n\u001b[32m-> \u001b[39m\u001b[32m1739\u001b[39m     \u001b[38;5;28;01mreturn\u001b[39;00m \u001b[38;5;28;43mself\u001b[39;49m\u001b[43m.\u001b[49m\u001b[43m_call_impl\u001b[49m\u001b[43m(\u001b[49m\u001b[43m*\u001b[49m\u001b[43margs\u001b[49m\u001b[43m,\u001b[49m\u001b[43m \u001b[49m\u001b[43m*\u001b[49m\u001b[43m*\u001b[49m\u001b[43mkwargs\u001b[49m\u001b[43m)\u001b[49m\n",
      "\u001b[36mFile \u001b[39m\u001b[32m/opt/homebrew/lib/python3.11/site-packages/torch/nn/modules/module.py:1750\u001b[39m, in \u001b[36mModule._call_impl\u001b[39m\u001b[34m(self, *args, **kwargs)\u001b[39m\n\u001b[32m   1745\u001b[39m \u001b[38;5;66;03m# If we don't have any hooks, we want to skip the rest of the logic in\u001b[39;00m\n\u001b[32m   1746\u001b[39m \u001b[38;5;66;03m# this function, and just call forward.\u001b[39;00m\n\u001b[32m   1747\u001b[39m \u001b[38;5;28;01mif\u001b[39;00m \u001b[38;5;129;01mnot\u001b[39;00m (\u001b[38;5;28mself\u001b[39m._backward_hooks \u001b[38;5;129;01mor\u001b[39;00m \u001b[38;5;28mself\u001b[39m._backward_pre_hooks \u001b[38;5;129;01mor\u001b[39;00m \u001b[38;5;28mself\u001b[39m._forward_hooks \u001b[38;5;129;01mor\u001b[39;00m \u001b[38;5;28mself\u001b[39m._forward_pre_hooks\n\u001b[32m   1748\u001b[39m         \u001b[38;5;129;01mor\u001b[39;00m _global_backward_pre_hooks \u001b[38;5;129;01mor\u001b[39;00m _global_backward_hooks\n\u001b[32m   1749\u001b[39m         \u001b[38;5;129;01mor\u001b[39;00m _global_forward_hooks \u001b[38;5;129;01mor\u001b[39;00m _global_forward_pre_hooks):\n\u001b[32m-> \u001b[39m\u001b[32m1750\u001b[39m     \u001b[38;5;28;01mreturn\u001b[39;00m \u001b[43mforward_call\u001b[49m\u001b[43m(\u001b[49m\u001b[43m*\u001b[49m\u001b[43margs\u001b[49m\u001b[43m,\u001b[49m\u001b[43m \u001b[49m\u001b[43m*\u001b[49m\u001b[43m*\u001b[49m\u001b[43mkwargs\u001b[49m\u001b[43m)\u001b[49m\n\u001b[32m   1752\u001b[39m result = \u001b[38;5;28;01mNone\u001b[39;00m\n\u001b[32m   1753\u001b[39m called_always_called_hooks = \u001b[38;5;28mset\u001b[39m()\n",
      "\u001b[36mFile \u001b[39m\u001b[32m~/.cache/torch/hub/SharanSMenon_swin-transformer-hub_main/swin.py:25\u001b[39m, in \u001b[36mMlp.forward\u001b[39m\u001b[34m(self, x)\u001b[39m\n\u001b[32m     24\u001b[39m \u001b[38;5;28;01mdef\u001b[39;00m\u001b[38;5;250m \u001b[39m\u001b[34mforward\u001b[39m(\u001b[38;5;28mself\u001b[39m, x):\n\u001b[32m---> \u001b[39m\u001b[32m25\u001b[39m     x = \u001b[38;5;28;43mself\u001b[39;49m\u001b[43m.\u001b[49m\u001b[43mfc1\u001b[49m\u001b[43m(\u001b[49m\u001b[43mx\u001b[49m\u001b[43m)\u001b[49m\n\u001b[32m     26\u001b[39m     x = \u001b[38;5;28mself\u001b[39m.act(x)\n\u001b[32m     27\u001b[39m     x = \u001b[38;5;28mself\u001b[39m.drop(x)\n",
      "\u001b[36mFile \u001b[39m\u001b[32m/opt/homebrew/lib/python3.11/site-packages/torch/nn/modules/module.py:1739\u001b[39m, in \u001b[36mModule._wrapped_call_impl\u001b[39m\u001b[34m(self, *args, **kwargs)\u001b[39m\n\u001b[32m   1737\u001b[39m     \u001b[38;5;28;01mreturn\u001b[39;00m \u001b[38;5;28mself\u001b[39m._compiled_call_impl(*args, **kwargs)  \u001b[38;5;66;03m# type: ignore[misc]\u001b[39;00m\n\u001b[32m   1738\u001b[39m \u001b[38;5;28;01melse\u001b[39;00m:\n\u001b[32m-> \u001b[39m\u001b[32m1739\u001b[39m     \u001b[38;5;28;01mreturn\u001b[39;00m \u001b[38;5;28;43mself\u001b[39;49m\u001b[43m.\u001b[49m\u001b[43m_call_impl\u001b[49m\u001b[43m(\u001b[49m\u001b[43m*\u001b[49m\u001b[43margs\u001b[49m\u001b[43m,\u001b[49m\u001b[43m \u001b[49m\u001b[43m*\u001b[49m\u001b[43m*\u001b[49m\u001b[43mkwargs\u001b[49m\u001b[43m)\u001b[49m\n",
      "\u001b[36mFile \u001b[39m\u001b[32m/opt/homebrew/lib/python3.11/site-packages/torch/nn/modules/module.py:1750\u001b[39m, in \u001b[36mModule._call_impl\u001b[39m\u001b[34m(self, *args, **kwargs)\u001b[39m\n\u001b[32m   1745\u001b[39m \u001b[38;5;66;03m# If we don't have any hooks, we want to skip the rest of the logic in\u001b[39;00m\n\u001b[32m   1746\u001b[39m \u001b[38;5;66;03m# this function, and just call forward.\u001b[39;00m\n\u001b[32m   1747\u001b[39m \u001b[38;5;28;01mif\u001b[39;00m \u001b[38;5;129;01mnot\u001b[39;00m (\u001b[38;5;28mself\u001b[39m._backward_hooks \u001b[38;5;129;01mor\u001b[39;00m \u001b[38;5;28mself\u001b[39m._backward_pre_hooks \u001b[38;5;129;01mor\u001b[39;00m \u001b[38;5;28mself\u001b[39m._forward_hooks \u001b[38;5;129;01mor\u001b[39;00m \u001b[38;5;28mself\u001b[39m._forward_pre_hooks\n\u001b[32m   1748\u001b[39m         \u001b[38;5;129;01mor\u001b[39;00m _global_backward_pre_hooks \u001b[38;5;129;01mor\u001b[39;00m _global_backward_hooks\n\u001b[32m   1749\u001b[39m         \u001b[38;5;129;01mor\u001b[39;00m _global_forward_hooks \u001b[38;5;129;01mor\u001b[39;00m _global_forward_pre_hooks):\n\u001b[32m-> \u001b[39m\u001b[32m1750\u001b[39m     \u001b[38;5;28;01mreturn\u001b[39;00m \u001b[43mforward_call\u001b[49m\u001b[43m(\u001b[49m\u001b[43m*\u001b[49m\u001b[43margs\u001b[49m\u001b[43m,\u001b[49m\u001b[43m \u001b[49m\u001b[43m*\u001b[49m\u001b[43m*\u001b[49m\u001b[43mkwargs\u001b[49m\u001b[43m)\u001b[49m\n\u001b[32m   1752\u001b[39m result = \u001b[38;5;28;01mNone\u001b[39;00m\n\u001b[32m   1753\u001b[39m called_always_called_hooks = \u001b[38;5;28mset\u001b[39m()\n",
      "\u001b[36mFile \u001b[39m\u001b[32m/opt/homebrew/lib/python3.11/site-packages/torch/nn/modules/linear.py:125\u001b[39m, in \u001b[36mLinear.forward\u001b[39m\u001b[34m(self, input)\u001b[39m\n\u001b[32m    124\u001b[39m \u001b[38;5;28;01mdef\u001b[39;00m\u001b[38;5;250m \u001b[39m\u001b[34mforward\u001b[39m(\u001b[38;5;28mself\u001b[39m, \u001b[38;5;28minput\u001b[39m: Tensor) -> Tensor:\n\u001b[32m--> \u001b[39m\u001b[32m125\u001b[39m     \u001b[38;5;28;01mreturn\u001b[39;00m \u001b[43mF\u001b[49m\u001b[43m.\u001b[49m\u001b[43mlinear\u001b[49m\u001b[43m(\u001b[49m\u001b[38;5;28;43minput\u001b[39;49m\u001b[43m,\u001b[49m\u001b[43m \u001b[49m\u001b[38;5;28;43mself\u001b[39;49m\u001b[43m.\u001b[49m\u001b[43mweight\u001b[49m\u001b[43m,\u001b[49m\u001b[43m \u001b[49m\u001b[38;5;28;43mself\u001b[39;49m\u001b[43m.\u001b[49m\u001b[43mbias\u001b[49m\u001b[43m)\u001b[49m\n",
      "\u001b[31mKeyboardInterrupt\u001b[39m: "
     ]
    }
   ],
   "source": [
    "model_ft = train_model(model, criterion, optimizer, exp_lr_scheduler, dataloaders, dataset_sizes, device, num_epochs=50)"
   ]
  },
  {
   "cell_type": "markdown",
   "id": "5e460a4d",
   "metadata": {
    "papermill": {
     "duration": 0.187141,
     "end_time": "2022-01-21T21:01:51.497263",
     "exception": false,
     "start_time": "2022-01-21T21:01:51.310122",
     "status": "completed"
    },
    "tags": []
   },
   "source": [
    "## Testing\n",
    "\n",
    "Ok, now we finished training. Lets run the dataset on the test loader and calculate accuracy"
   ]
  },
  {
   "cell_type": "code",
   "execution_count": null,
   "id": "d4eea12f",
   "metadata": {
    "execution": {
     "iopub.execute_input": "2022-01-21T21:01:51.882316Z",
     "iopub.status.busy": "2022-01-21T21:01:51.872336Z",
     "iopub.status.idle": "2022-01-21T21:01:54.014480Z",
     "shell.execute_reply": "2022-01-21T21:01:54.014895Z",
     "shell.execute_reply.started": "2022-01-21T20:49:33.929066Z"
    },
    "papermill": {
     "duration": 2.330873,
     "end_time": "2022-01-21T21:01:54.015082",
     "exception": false,
     "start_time": "2022-01-21T21:01:51.684209",
     "status": "completed"
    },
    "tags": []
   },
   "outputs": [],
   "source": [
    "test_loss = 0.0\n",
    "class_correct = list(0 for i in range(len(classes)))\n",
    "class_total = list(0 for i in range(len(classes)))\n",
    "model_ft.eval()\n",
    "\n",
    "for data, target in tqdm(test_loader):\n",
    "    data, target = data.to(device), target.to(device)\n",
    "    with torch.no_grad(): # turn off autograd for faster testing\n",
    "        output = model_ft(data)\n",
    "        loss = criterion(output, target)\n",
    "    test_loss = loss.item() * data.size(0)\n",
    "    _, pred = torch.max(output, 1)\n",
    "    correct_tensor = pred.eq(target.data.view_as(pred))\n",
    "    correct = np.squeeze(correct_tensor.cpu().numpy())\n",
    "    if len(target) == 32:\n",
    "        for i in range(32):\n",
    "            label = target.data[i]\n",
    "            class_correct[label] += correct[i].item()\n",
    "            class_total[label] += 1\n",
    "\n",
    "test_loss = test_loss / test_data_len\n",
    "print('Test Loss: {:.4f}'.format(test_loss))\n",
    "for i in range(len(classes)):\n",
    "    if class_total[i] > 0:\n",
    "        print(\"Test Accuracy of %5s: %2d%% (%2d/%2d)\" % (\n",
    "            classes[i], 100*class_correct[i]/class_total[i], np.sum(class_correct[i]), np.sum(class_total[i])\n",
    "        ))\n",
    "    else:\n",
    "        print(\"Test accuracy of %5s: NA\" % (classes[i]))\n",
    "print(\"Test Accuracy of %2d%% (%2d/%2d)\" % (\n",
    "            100*np.sum(class_correct)/np.sum(class_total), np.sum(class_correct), np.sum(class_total)\n",
    "        ))"
   ]
  },
  {
   "cell_type": "code",
   "execution_count": null,
   "id": "d85cea2b",
   "metadata": {
    "execution": {
     "iopub.execute_input": "2022-01-21T21:01:54.403626Z",
     "iopub.status.busy": "2022-01-21T21:01:54.403056Z",
     "iopub.status.idle": "2022-01-21T21:01:57.501173Z",
     "shell.execute_reply": "2022-01-21T21:01:57.500202Z",
     "shell.execute_reply.started": "2022-01-21T20:41:32.102135Z"
    },
    "papermill": {
     "duration": 3.29565,
     "end_time": "2022-01-21T21:01:57.501323",
     "exception": false,
     "start_time": "2022-01-21T21:01:54.205673",
     "status": "completed"
    },
    "tags": []
   },
   "outputs": [],
   "source": [
    "# Save model\n",
    "example = torch.rand(1, 3, 224, 224)\n",
    "traced_script_module = torch.jit.trace(model.cpu(), example)\n",
    "traced_script_module.save(\"/Users/zagarsuren/Documents/GitHub/swin-transformer-xray/models/xray_swin_transformer.pt\")"
   ]
  }
 ],
 "metadata": {
  "kernelspec": {
   "display_name": "Python 3",
   "language": "python",
   "name": "python3"
  },
  "language_info": {
   "codemirror_mode": {
    "name": "ipython",
    "version": 3
   },
   "file_extension": ".py",
   "mimetype": "text/x-python",
   "name": "python",
   "nbconvert_exporter": "python",
   "pygments_lexer": "ipython3",
   "version": "3.11.11"
  },
  "papermill": {
   "default_parameters": {},
   "duration": 318.232885,
   "end_time": "2022-01-21T21:01:59.689958",
   "environment_variables": {},
   "exception": null,
   "input_path": "__notebook__.ipynb",
   "output_path": "__notebook__.ipynb",
   "parameters": {},
   "start_time": "2022-01-21T20:56:41.457073",
   "version": "2.3.3"
  },
  "widgets": {
   "application/vnd.jupyter.widget-state+json": {
    "state": {
     "0cfa8f93404942ec8baa2329aa4f3b1b": {
      "model_module": "@jupyter-widgets/controls",
      "model_module_version": "1.5.0",
      "model_name": "HTMLModel",
      "state": {
       "_dom_classes": [],
       "_model_module": "@jupyter-widgets/controls",
       "_model_module_version": "1.5.0",
       "_model_name": "HTMLModel",
       "_view_count": null,
       "_view_module": "@jupyter-widgets/controls",
       "_view_module_version": "1.5.0",
       "_view_name": "HTMLView",
       "description": "",
       "description_tooltip": null,
       "layout": "IPY_MODEL_7fd090b5346c4e2eae776a098db3cfb1",
       "placeholder": "​",
       "style": "IPY_MODEL_1f77f40fad434c8cb0128b7c7821d614",
       "value": " 109M/109M [00:01&lt;00:00, 98.2MB/s]"
      }
     },
     "1dfb5154930a407c8657ebbaee371a52": {
      "model_module": "@jupyter-widgets/controls",
      "model_module_version": "1.5.0",
      "model_name": "ProgressStyleModel",
      "state": {
       "_model_module": "@jupyter-widgets/controls",
       "_model_module_version": "1.5.0",
       "_model_name": "ProgressStyleModel",
       "_view_count": null,
       "_view_module": "@jupyter-widgets/base",
       "_view_module_version": "1.2.0",
       "_view_name": "StyleView",
       "bar_color": null,
       "description_width": ""
      }
     },
     "1f77f40fad434c8cb0128b7c7821d614": {
      "model_module": "@jupyter-widgets/controls",
      "model_module_version": "1.5.0",
      "model_name": "DescriptionStyleModel",
      "state": {
       "_model_module": "@jupyter-widgets/controls",
       "_model_module_version": "1.5.0",
       "_model_name": "DescriptionStyleModel",
       "_view_count": null,
       "_view_module": "@jupyter-widgets/base",
       "_view_module_version": "1.2.0",
       "_view_name": "StyleView",
       "description_width": ""
      }
     },
     "514832b4851c446d87516336ba5b7239": {
      "model_module": "@jupyter-widgets/controls",
      "model_module_version": "1.5.0",
      "model_name": "FloatProgressModel",
      "state": {
       "_dom_classes": [],
       "_model_module": "@jupyter-widgets/controls",
       "_model_module_version": "1.5.0",
       "_model_name": "FloatProgressModel",
       "_view_count": null,
       "_view_module": "@jupyter-widgets/controls",
       "_view_module_version": "1.5.0",
       "_view_name": "ProgressView",
       "bar_style": "success",
       "description": "",
       "description_tooltip": null,
       "layout": "IPY_MODEL_c30daeae60de421e84ba1e0d28548657",
       "max": 114342173,
       "min": 0,
       "orientation": "horizontal",
       "style": "IPY_MODEL_1dfb5154930a407c8657ebbaee371a52",
       "value": 114342173
      }
     },
     "7fd090b5346c4e2eae776a098db3cfb1": {
      "model_module": "@jupyter-widgets/base",
      "model_module_version": "1.2.0",
      "model_name": "LayoutModel",
      "state": {
       "_model_module": "@jupyter-widgets/base",
       "_model_module_version": "1.2.0",
       "_model_name": "LayoutModel",
       "_view_count": null,
       "_view_module": "@jupyter-widgets/base",
       "_view_module_version": "1.2.0",
       "_view_name": "LayoutView",
       "align_content": null,
       "align_items": null,
       "align_self": null,
       "border": null,
       "bottom": null,
       "display": null,
       "flex": null,
       "flex_flow": null,
       "grid_area": null,
       "grid_auto_columns": null,
       "grid_auto_flow": null,
       "grid_auto_rows": null,
       "grid_column": null,
       "grid_gap": null,
       "grid_row": null,
       "grid_template_areas": null,
       "grid_template_columns": null,
       "grid_template_rows": null,
       "height": null,
       "justify_content": null,
       "justify_items": null,
       "left": null,
       "margin": null,
       "max_height": null,
       "max_width": null,
       "min_height": null,
       "min_width": null,
       "object_fit": null,
       "object_position": null,
       "order": null,
       "overflow": null,
       "overflow_x": null,
       "overflow_y": null,
       "padding": null,
       "right": null,
       "top": null,
       "visibility": null,
       "width": null
      }
     },
     "89c0e53f176a4860a8f77dd38d144723": {
      "model_module": "@jupyter-widgets/base",
      "model_module_version": "1.2.0",
      "model_name": "LayoutModel",
      "state": {
       "_model_module": "@jupyter-widgets/base",
       "_model_module_version": "1.2.0",
       "_model_name": "LayoutModel",
       "_view_count": null,
       "_view_module": "@jupyter-widgets/base",
       "_view_module_version": "1.2.0",
       "_view_name": "LayoutView",
       "align_content": null,
       "align_items": null,
       "align_self": null,
       "border": null,
       "bottom": null,
       "display": null,
       "flex": null,
       "flex_flow": null,
       "grid_area": null,
       "grid_auto_columns": null,
       "grid_auto_flow": null,
       "grid_auto_rows": null,
       "grid_column": null,
       "grid_gap": null,
       "grid_row": null,
       "grid_template_areas": null,
       "grid_template_columns": null,
       "grid_template_rows": null,
       "height": null,
       "justify_content": null,
       "justify_items": null,
       "left": null,
       "margin": null,
       "max_height": null,
       "max_width": null,
       "min_height": null,
       "min_width": null,
       "object_fit": null,
       "object_position": null,
       "order": null,
       "overflow": null,
       "overflow_x": null,
       "overflow_y": null,
       "padding": null,
       "right": null,
       "top": null,
       "visibility": null,
       "width": null
      }
     },
     "9400820af1be42f7bf457adcb84b2d10": {
      "model_module": "@jupyter-widgets/controls",
      "model_module_version": "1.5.0",
      "model_name": "DescriptionStyleModel",
      "state": {
       "_model_module": "@jupyter-widgets/controls",
       "_model_module_version": "1.5.0",
       "_model_name": "DescriptionStyleModel",
       "_view_count": null,
       "_view_module": "@jupyter-widgets/base",
       "_view_module_version": "1.2.0",
       "_view_name": "StyleView",
       "description_width": ""
      }
     },
     "9866ec5a55714e9097df6bbc16c7745f": {
      "model_module": "@jupyter-widgets/base",
      "model_module_version": "1.2.0",
      "model_name": "LayoutModel",
      "state": {
       "_model_module": "@jupyter-widgets/base",
       "_model_module_version": "1.2.0",
       "_model_name": "LayoutModel",
       "_view_count": null,
       "_view_module": "@jupyter-widgets/base",
       "_view_module_version": "1.2.0",
       "_view_name": "LayoutView",
       "align_content": null,
       "align_items": null,
       "align_self": null,
       "border": null,
       "bottom": null,
       "display": null,
       "flex": null,
       "flex_flow": null,
       "grid_area": null,
       "grid_auto_columns": null,
       "grid_auto_flow": null,
       "grid_auto_rows": null,
       "grid_column": null,
       "grid_gap": null,
       "grid_row": null,
       "grid_template_areas": null,
       "grid_template_columns": null,
       "grid_template_rows": null,
       "height": null,
       "justify_content": null,
       "justify_items": null,
       "left": null,
       "margin": null,
       "max_height": null,
       "max_width": null,
       "min_height": null,
       "min_width": null,
       "object_fit": null,
       "object_position": null,
       "order": null,
       "overflow": null,
       "overflow_x": null,
       "overflow_y": null,
       "padding": null,
       "right": null,
       "top": null,
       "visibility": null,
       "width": null
      }
     },
     "a9ff5ca0b4094544919e1fda3ff20ded": {
      "model_module": "@jupyter-widgets/controls",
      "model_module_version": "1.5.0",
      "model_name": "HTMLModel",
      "state": {
       "_dom_classes": [],
       "_model_module": "@jupyter-widgets/controls",
       "_model_module_version": "1.5.0",
       "_model_name": "HTMLModel",
       "_view_count": null,
       "_view_module": "@jupyter-widgets/controls",
       "_view_module_version": "1.5.0",
       "_view_name": "HTMLView",
       "description": "",
       "description_tooltip": null,
       "layout": "IPY_MODEL_89c0e53f176a4860a8f77dd38d144723",
       "placeholder": "​",
       "style": "IPY_MODEL_9400820af1be42f7bf457adcb84b2d10",
       "value": "100%"
      }
     },
     "c30daeae60de421e84ba1e0d28548657": {
      "model_module": "@jupyter-widgets/base",
      "model_module_version": "1.2.0",
      "model_name": "LayoutModel",
      "state": {
       "_model_module": "@jupyter-widgets/base",
       "_model_module_version": "1.2.0",
       "_model_name": "LayoutModel",
       "_view_count": null,
       "_view_module": "@jupyter-widgets/base",
       "_view_module_version": "1.2.0",
       "_view_name": "LayoutView",
       "align_content": null,
       "align_items": null,
       "align_self": null,
       "border": null,
       "bottom": null,
       "display": null,
       "flex": null,
       "flex_flow": null,
       "grid_area": null,
       "grid_auto_columns": null,
       "grid_auto_flow": null,
       "grid_auto_rows": null,
       "grid_column": null,
       "grid_gap": null,
       "grid_row": null,
       "grid_template_areas": null,
       "grid_template_columns": null,
       "grid_template_rows": null,
       "height": null,
       "justify_content": null,
       "justify_items": null,
       "left": null,
       "margin": null,
       "max_height": null,
       "max_width": null,
       "min_height": null,
       "min_width": null,
       "object_fit": null,
       "object_position": null,
       "order": null,
       "overflow": null,
       "overflow_x": null,
       "overflow_y": null,
       "padding": null,
       "right": null,
       "top": null,
       "visibility": null,
       "width": null
      }
     },
     "d6c29c12aefa466f94c6d20f1f92a185": {
      "model_module": "@jupyter-widgets/controls",
      "model_module_version": "1.5.0",
      "model_name": "HBoxModel",
      "state": {
       "_dom_classes": [],
       "_model_module": "@jupyter-widgets/controls",
       "_model_module_version": "1.5.0",
       "_model_name": "HBoxModel",
       "_view_count": null,
       "_view_module": "@jupyter-widgets/controls",
       "_view_module_version": "1.5.0",
       "_view_name": "HBoxView",
       "box_style": "",
       "children": [
        "IPY_MODEL_a9ff5ca0b4094544919e1fda3ff20ded",
        "IPY_MODEL_514832b4851c446d87516336ba5b7239",
        "IPY_MODEL_0cfa8f93404942ec8baa2329aa4f3b1b"
       ],
       "layout": "IPY_MODEL_9866ec5a55714e9097df6bbc16c7745f"
      }
     }
    },
    "version_major": 2,
    "version_minor": 0
   }
  }
 },
 "nbformat": 4,
 "nbformat_minor": 5
}
